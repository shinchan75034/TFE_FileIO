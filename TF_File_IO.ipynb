{
  "nbformat": 4,
  "nbformat_minor": 0,
  "metadata": {
    "colab": {
      "name": "TF_File_IO.ipynb",
      "provenance": [],
      "authorship_tag": "ABX9TyPu4DnUg6bO5o3bPMHj+kny",
      "include_colab_link": true
    },
    "kernelspec": {
      "name": "python3",
      "display_name": "Python 3"
    },
    "accelerator": "GPU"
  },
  "cells": [
    {
      "cell_type": "markdown",
      "metadata": {
        "id": "view-in-github",
        "colab_type": "text"
      },
      "source": [
        "<a href=\"https://colab.research.google.com/github/shinchan75034/TFE_FileIO/blob/master/TF_File_IO.ipynb\" target=\"_parent\"><img src=\"https://colab.research.google.com/assets/colab-badge.svg\" alt=\"Open In Colab\"/></a>"
      ]
    },
    {
      "cell_type": "markdown",
      "metadata": {
        "id": "gag_2cSIP2EP",
        "colab_type": "text"
      },
      "source": [
        "Essential knowledge for understanding [this reference](https://github.com/tensorflow/tensorrt/blob/master/tftrt/examples/image-classification/image_classification.py \"Nvidia TensorRT input_fn argument example\")"
      ]
    },
    {
      "cell_type": "code",
      "metadata": {
        "id": "nTXhQeZ1z6b3",
        "colab_type": "code",
        "outputId": "30b1399c-28b3-42a4-9c60-217ce3593211",
        "colab": {
          "base_uri": "https://localhost:8080/",
          "height": 1000
        }
      },
      "source": [
        "!pip install tensorflow-gpu==2.1.0"
      ],
      "execution_count": 0,
      "outputs": [
        {
          "output_type": "stream",
          "text": [
            "Collecting tensorflow-gpu==2.1.0\n",
            "\u001b[?25l  Downloading https://files.pythonhosted.org/packages/0a/93/c7bca39b23aae45cd2e85ad3871c81eccc63b9c5276e926511e2e5b0879d/tensorflow_gpu-2.1.0-cp36-cp36m-manylinux2010_x86_64.whl (421.8MB)\n",
            "\u001b[K     |████████████████████████████████| 421.8MB 41kB/s \n",
            "\u001b[?25hRequirement already satisfied: termcolor>=1.1.0 in /usr/local/lib/python3.6/dist-packages (from tensorflow-gpu==2.1.0) (1.1.0)\n",
            "Collecting tensorflow-estimator<2.2.0,>=2.1.0rc0\n",
            "\u001b[?25l  Downloading https://files.pythonhosted.org/packages/18/90/b77c328a1304437ab1310b463e533fa7689f4bfc41549593056d812fab8e/tensorflow_estimator-2.1.0-py2.py3-none-any.whl (448kB)\n",
            "\u001b[K     |████████████████████████████████| 450kB 49.9MB/s \n",
            "\u001b[?25hCollecting gast==0.2.2\n",
            "  Downloading https://files.pythonhosted.org/packages/4e/35/11749bf99b2d4e3cceb4d55ca22590b0d7c2c62b9de38ac4a4a7f4687421/gast-0.2.2.tar.gz\n",
            "Requirement already satisfied: absl-py>=0.7.0 in /usr/local/lib/python3.6/dist-packages (from tensorflow-gpu==2.1.0) (0.9.0)\n",
            "Requirement already satisfied: opt-einsum>=2.3.2 in /usr/local/lib/python3.6/dist-packages (from tensorflow-gpu==2.1.0) (3.2.0)\n",
            "Collecting tensorboard<2.2.0,>=2.1.0\n",
            "\u001b[?25l  Downloading https://files.pythonhosted.org/packages/d9/41/bbf49b61370e4f4d245d4c6051dfb6db80cec672605c91b1652ac8cc3d38/tensorboard-2.1.1-py3-none-any.whl (3.8MB)\n",
            "\u001b[K     |████████████████████████████████| 3.9MB 44.7MB/s \n",
            "\u001b[?25hRequirement already satisfied: six>=1.12.0 in /usr/local/lib/python3.6/dist-packages (from tensorflow-gpu==2.1.0) (1.12.0)\n",
            "Requirement already satisfied: grpcio>=1.8.6 in /usr/local/lib/python3.6/dist-packages (from tensorflow-gpu==2.1.0) (1.27.2)\n",
            "Requirement already satisfied: wrapt>=1.11.1 in /usr/local/lib/python3.6/dist-packages (from tensorflow-gpu==2.1.0) (1.12.1)\n",
            "Requirement already satisfied: keras-applications>=1.0.8 in /usr/local/lib/python3.6/dist-packages (from tensorflow-gpu==2.1.0) (1.0.8)\n",
            "Requirement already satisfied: protobuf>=3.8.0 in /usr/local/lib/python3.6/dist-packages (from tensorflow-gpu==2.1.0) (3.10.0)\n",
            "Requirement already satisfied: scipy==1.4.1; python_version >= \"3\" in /usr/local/lib/python3.6/dist-packages (from tensorflow-gpu==2.1.0) (1.4.1)\n",
            "Requirement already satisfied: keras-preprocessing>=1.1.0 in /usr/local/lib/python3.6/dist-packages (from tensorflow-gpu==2.1.0) (1.1.0)\n",
            "Requirement already satisfied: google-pasta>=0.1.6 in /usr/local/lib/python3.6/dist-packages (from tensorflow-gpu==2.1.0) (0.2.0)\n",
            "Requirement already satisfied: wheel>=0.26; python_version >= \"3\" in /usr/local/lib/python3.6/dist-packages (from tensorflow-gpu==2.1.0) (0.34.2)\n",
            "Requirement already satisfied: astor>=0.6.0 in /usr/local/lib/python3.6/dist-packages (from tensorflow-gpu==2.1.0) (0.8.1)\n",
            "Requirement already satisfied: numpy<2.0,>=1.16.0 in /usr/local/lib/python3.6/dist-packages (from tensorflow-gpu==2.1.0) (1.18.2)\n",
            "Requirement already satisfied: markdown>=2.6.8 in /usr/local/lib/python3.6/dist-packages (from tensorboard<2.2.0,>=2.1.0->tensorflow-gpu==2.1.0) (3.2.1)\n",
            "Requirement already satisfied: werkzeug>=0.11.15 in /usr/local/lib/python3.6/dist-packages (from tensorboard<2.2.0,>=2.1.0->tensorflow-gpu==2.1.0) (1.0.1)\n",
            "Requirement already satisfied: requests<3,>=2.21.0 in /usr/local/lib/python3.6/dist-packages (from tensorboard<2.2.0,>=2.1.0->tensorflow-gpu==2.1.0) (2.21.0)\n",
            "Requirement already satisfied: setuptools>=41.0.0 in /usr/local/lib/python3.6/dist-packages (from tensorboard<2.2.0,>=2.1.0->tensorflow-gpu==2.1.0) (46.1.3)\n",
            "Requirement already satisfied: google-auth<2,>=1.6.3 in /usr/local/lib/python3.6/dist-packages (from tensorboard<2.2.0,>=2.1.0->tensorflow-gpu==2.1.0) (1.7.2)\n",
            "Requirement already satisfied: google-auth-oauthlib<0.5,>=0.4.1 in /usr/local/lib/python3.6/dist-packages (from tensorboard<2.2.0,>=2.1.0->tensorflow-gpu==2.1.0) (0.4.1)\n",
            "Requirement already satisfied: h5py in /usr/local/lib/python3.6/dist-packages (from keras-applications>=1.0.8->tensorflow-gpu==2.1.0) (2.10.0)\n",
            "Requirement already satisfied: certifi>=2017.4.17 in /usr/local/lib/python3.6/dist-packages (from requests<3,>=2.21.0->tensorboard<2.2.0,>=2.1.0->tensorflow-gpu==2.1.0) (2019.11.28)\n",
            "Requirement already satisfied: idna<2.9,>=2.5 in /usr/local/lib/python3.6/dist-packages (from requests<3,>=2.21.0->tensorboard<2.2.0,>=2.1.0->tensorflow-gpu==2.1.0) (2.8)\n",
            "Requirement already satisfied: chardet<3.1.0,>=3.0.2 in /usr/local/lib/python3.6/dist-packages (from requests<3,>=2.21.0->tensorboard<2.2.0,>=2.1.0->tensorflow-gpu==2.1.0) (3.0.4)\n",
            "Requirement already satisfied: urllib3<1.25,>=1.21.1 in /usr/local/lib/python3.6/dist-packages (from requests<3,>=2.21.0->tensorboard<2.2.0,>=2.1.0->tensorflow-gpu==2.1.0) (1.24.3)\n",
            "Requirement already satisfied: cachetools<3.2,>=2.0.0 in /usr/local/lib/python3.6/dist-packages (from google-auth<2,>=1.6.3->tensorboard<2.2.0,>=2.1.0->tensorflow-gpu==2.1.0) (3.1.1)\n",
            "Requirement already satisfied: rsa<4.1,>=3.1.4 in /usr/local/lib/python3.6/dist-packages (from google-auth<2,>=1.6.3->tensorboard<2.2.0,>=2.1.0->tensorflow-gpu==2.1.0) (4.0)\n",
            "Requirement already satisfied: pyasn1-modules>=0.2.1 in /usr/local/lib/python3.6/dist-packages (from google-auth<2,>=1.6.3->tensorboard<2.2.0,>=2.1.0->tensorflow-gpu==2.1.0) (0.2.8)\n",
            "Requirement already satisfied: requests-oauthlib>=0.7.0 in /usr/local/lib/python3.6/dist-packages (from google-auth-oauthlib<0.5,>=0.4.1->tensorboard<2.2.0,>=2.1.0->tensorflow-gpu==2.1.0) (1.3.0)\n",
            "Requirement already satisfied: pyasn1>=0.1.3 in /usr/local/lib/python3.6/dist-packages (from rsa<4.1,>=3.1.4->google-auth<2,>=1.6.3->tensorboard<2.2.0,>=2.1.0->tensorflow-gpu==2.1.0) (0.4.8)\n",
            "Requirement already satisfied: oauthlib>=3.0.0 in /usr/local/lib/python3.6/dist-packages (from requests-oauthlib>=0.7.0->google-auth-oauthlib<0.5,>=0.4.1->tensorboard<2.2.0,>=2.1.0->tensorflow-gpu==2.1.0) (3.1.0)\n",
            "Building wheels for collected packages: gast\n",
            "  Building wheel for gast (setup.py) ... \u001b[?25l\u001b[?25hdone\n",
            "  Created wheel for gast: filename=gast-0.2.2-cp36-none-any.whl size=7540 sha256=c71407414bbf7887d775c2494fcedf9eeb6c135475efbfb0dd3e81e49df1d1cc\n",
            "  Stored in directory: /root/.cache/pip/wheels/5c/2e/7e/a1d4d4fcebe6c381f378ce7743a3ced3699feb89bcfbdadadd\n",
            "Successfully built gast\n",
            "\u001b[31mERROR: tensorflow 2.2.0rc2 has requirement gast==0.3.3, but you'll have gast 0.2.2 which is incompatible.\u001b[0m\n",
            "\u001b[31mERROR: tensorflow 2.2.0rc2 has requirement tensorboard<2.3.0,>=2.2.0, but you'll have tensorboard 2.1.1 which is incompatible.\u001b[0m\n",
            "\u001b[31mERROR: tensorflow 2.2.0rc2 has requirement tensorflow-estimator<2.3.0,>=2.2.0rc0, but you'll have tensorflow-estimator 2.1.0 which is incompatible.\u001b[0m\n",
            "Installing collected packages: tensorflow-estimator, gast, tensorboard, tensorflow-gpu\n",
            "  Found existing installation: tensorflow-estimator 2.2.0rc0\n",
            "    Uninstalling tensorflow-estimator-2.2.0rc0:\n",
            "      Successfully uninstalled tensorflow-estimator-2.2.0rc0\n",
            "  Found existing installation: gast 0.3.3\n",
            "    Uninstalling gast-0.3.3:\n",
            "      Successfully uninstalled gast-0.3.3\n",
            "  Found existing installation: tensorboard 2.2.0\n",
            "    Uninstalling tensorboard-2.2.0:\n",
            "      Successfully uninstalled tensorboard-2.2.0\n",
            "Successfully installed gast-0.2.2 tensorboard-2.1.1 tensorflow-estimator-2.1.0 tensorflow-gpu-2.1.0\n"
          ],
          "name": "stdout"
        }
      ]
    },
    {
      "cell_type": "code",
      "metadata": {
        "id": "Ll4wFHvMMXK8",
        "colab_type": "code",
        "outputId": "29e5f386-b1c6-4e31-8e7c-94c364908b51",
        "colab": {
          "base_uri": "https://localhost:8080/",
          "height": 34
        }
      },
      "source": [
        "import tensorflow as tf\n",
        "print(tf.__version__)"
      ],
      "execution_count": 0,
      "outputs": [
        {
          "output_type": "stream",
          "text": [
            "2.1.0\n"
          ],
          "name": "stdout"
        }
      ]
    },
    {
      "cell_type": "code",
      "metadata": {
        "id": "ZuYO0vT7MKne",
        "colab_type": "code",
        "outputId": "9fc99701-fb62-41a8-e5a2-e35ad2839b91",
        "colab": {
          "base_uri": "https://localhost:8080/",
          "height": 34
        }
      },
      "source": [
        "import numpy as np\n",
        "import os\n",
        "os.path.join('home', 'validation*')"
      ],
      "execution_count": 0,
      "outputs": [
        {
          "output_type": "execute_result",
          "data": {
            "text/plain": [
              "'home/validation*'"
            ]
          },
          "metadata": {
            "tags": []
          },
          "execution_count": 29
        }
      ]
    },
    {
      "cell_type": "code",
      "metadata": {
        "id": "jvgED4buNdxw",
        "colab_type": "code",
        "outputId": "805330ff-36d2-40ab-e97a-c8c07ad7f3b1",
        "colab": {
          "base_uri": "https://localhost:8080/",
          "height": 34
        }
      },
      "source": [
        "print(tf.__version__)"
      ],
      "execution_count": 0,
      "outputs": [
        {
          "output_type": "stream",
          "text": [
            "2.1.0\n"
          ],
          "name": "stdout"
        }
      ]
    },
    {
      "cell_type": "code",
      "metadata": {
        "id": "raegZ3S0NxuC",
        "colab_type": "code",
        "colab": {}
      },
      "source": [
        "CURRENT_DIR = os.getcwd()"
      ],
      "execution_count": 0,
      "outputs": []
    },
    {
      "cell_type": "code",
      "metadata": {
        "id": "A_uFyGuCN67O",
        "colab_type": "code",
        "colab": {}
      },
      "source": [
        "file1 = open(\"myfile.txt\",\"w\") \n",
        "L = [\"This is Delhi \\n\",\"This is Paris \\n\",\"This is London \\n\"]  \n",
        "file1.writelines(L)\n",
        "file1.close()\n",
        "\n",
        "file2 = open(\"myfile2.txt\",\"w\") \n",
        "L = [\"This is Taipei \\n\",\"This is Bodega Bay \\n\",\"This is Santa Rosa \\n\"]  \n",
        "file2.writelines(L)\n",
        "file2.close()\n",
        "\n"
      ],
      "execution_count": 0,
      "outputs": []
    },
    {
      "cell_type": "code",
      "metadata": {
        "id": "_HS7T5MPNfwR",
        "colab_type": "code",
        "colab": {}
      },
      "source": [
        "data_files = tf.io.gfile.glob(os.path.join(CURRENT_DIR, 'my*'))"
      ],
      "execution_count": 0,
      "outputs": []
    },
    {
      "cell_type": "code",
      "metadata": {
        "id": "5wrnvsJZPgv0",
        "colab_type": "code",
        "outputId": "6471791a-fe73-4024-ce98-60e359d9e8c2",
        "colab": {
          "base_uri": "https://localhost:8080/",
          "height": 34
        }
      },
      "source": [
        "tf.io.read_file(\n",
        "    data_files[0]\n",
        ", name=None\n",
        ")"
      ],
      "execution_count": 0,
      "outputs": [
        {
          "output_type": "execute_result",
          "data": {
            "text/plain": [
              "<tf.Tensor: shape=(), dtype=string, numpy=b'This is Delhi \\nThis is Paris \\nThis is London \\n'>"
            ]
          },
          "metadata": {
            "tags": []
          },
          "execution_count": 9
        }
      ]
    },
    {
      "cell_type": "code",
      "metadata": {
        "id": "IHJWUplXOgbz",
        "colab_type": "code",
        "outputId": "100dbb73-d194-4d05-f44f-da50e19aa427",
        "colab": {
          "base_uri": "https://localhost:8080/",
          "height": 34
        }
      },
      "source": [
        "type(data_files)"
      ],
      "execution_count": 0,
      "outputs": [
        {
          "output_type": "execute_result",
          "data": {
            "text/plain": [
              "list"
            ]
          },
          "metadata": {
            "tags": []
          },
          "execution_count": 16
        }
      ]
    },
    {
      "cell_type": "code",
      "metadata": {
        "id": "LPJR4dLbO5Ie",
        "colab_type": "code",
        "colab": {}
      },
      "source": [
        "from pathlib import Path"
      ],
      "execution_count": 0,
      "outputs": []
    },
    {
      "cell_type": "code",
      "metadata": {
        "id": "DZ1dSD6A2ZI4",
        "colab_type": "code",
        "outputId": "81310844-b1a4-4746-d078-3beef8066ef5",
        "colab": {
          "base_uri": "https://localhost:8080/",
          "height": 34
        }
      },
      "source": [
        "type(Path.cwd())"
      ],
      "execution_count": 0,
      "outputs": [
        {
          "output_type": "execute_result",
          "data": {
            "text/plain": [
              "pathlib.PosixPath"
            ]
          },
          "metadata": {
            "tags": []
          },
          "execution_count": 12
        }
      ]
    },
    {
      "cell_type": "code",
      "metadata": {
        "id": "3gWP9rk_2fRS",
        "colab_type": "code",
        "colab": {}
      },
      "source": [
        "import pathlib\n",
        "data_dir = tf.keras.utils.get_file(origin='https://storage.googleapis.com/download.tensorflow.org/example_images/flower_photos.tgz',\n",
        "                                         fname='flower_photos', untar=True)\n",
        "data_dir = pathlib.Path(data_dir)"
      ],
      "execution_count": 0,
      "outputs": []
    },
    {
      "cell_type": "markdown",
      "metadata": {
        "id": "mL2Zc4oI9yxt",
        "colab_type": "text"
      },
      "source": [
        "It is convenient for working files to be organized by their label. Then use `pathlib` object to specify the path to the level before the label, such that the path is traversed until the label but not include the label. This enables the path to be a useful object, for which can be used to traverse the next level and indicate items in this level as labels. This access is done through `glob` command. `glob` command returns whatever is one level down from the object which invokes it."
      ]
    },
    {
      "cell_type": "code",
      "metadata": {
        "id": "RX-m0xiz9sdp",
        "colab_type": "code",
        "outputId": "86a16143-8ac6-4e7a-9e32-fb7f9a867c45",
        "colab": {
          "base_uri": "https://localhost:8080/",
          "height": 34
        }
      },
      "source": [
        "data_dir"
      ],
      "execution_count": 0,
      "outputs": [
        {
          "output_type": "execute_result",
          "data": {
            "text/plain": [
              "PosixPath('/root/.keras/datasets/flower_photos')"
            ]
          },
          "metadata": {
            "tags": []
          },
          "execution_count": 42
        }
      ]
    },
    {
      "cell_type": "code",
      "metadata": {
        "id": "uaJUg1Xw70Un",
        "colab_type": "code",
        "outputId": "7e10bdc4-31ec-4421-b98a-e171f52cb46a",
        "colab": {
          "base_uri": "https://localhost:8080/",
          "height": 34
        }
      },
      "source": [
        "data_dir.glob('*')"
      ],
      "execution_count": 0,
      "outputs": [
        {
          "output_type": "execute_result",
          "data": {
            "text/plain": [
              "<generator object Path.glob at 0x7f8659a228e0>"
            ]
          },
          "metadata": {
            "tags": []
          },
          "execution_count": 35
        }
      ]
    },
    {
      "cell_type": "code",
      "metadata": {
        "id": "IwDsljiJ2n9s",
        "colab_type": "code",
        "outputId": "dcb0a8d2-2093-4a9e-b9ff-cad522397c19",
        "colab": {
          "base_uri": "https://localhost:8080/",
          "height": 34
        }
      },
      "source": [
        "image_count = len(list(data_dir.glob('*/*.jpg')))\n",
        "image_count"
      ],
      "execution_count": 0,
      "outputs": [
        {
          "output_type": "execute_result",
          "data": {
            "text/plain": [
              "3670"
            ]
          },
          "metadata": {
            "tags": []
          },
          "execution_count": 20
        }
      ]
    },
    {
      "cell_type": "code",
      "metadata": {
        "id": "Fg4g1m0U3A42",
        "colab_type": "code",
        "outputId": "a6791bc5-0195-4db7-8f62-c2e5831cf143",
        "colab": {
          "base_uri": "https://localhost:8080/",
          "height": 136
        }
      },
      "source": [
        ""
      ],
      "execution_count": 0,
      "outputs": [
        {
          "output_type": "stream",
          "text": [
            "total 55504\n",
            "-rwxr-xr-x 1 root root      930 Jan  1  2000 README.md\n",
            "-rwxr-xr-x 1 root root     1697 Jan  1  2000 anscombe.json\n",
            "-rw-r--r-- 1 root root 36523880 Apr  3 16:24 mnist_train_small.csv\n",
            "-rw-r--r-- 1 root root 18289443 Apr  3 16:24 mnist_test.csv\n",
            "-rw-r--r-- 1 root root  1706430 Apr  3 16:24 california_housing_train.csv\n",
            "-rw-r--r-- 1 root root   301141 Apr  3 16:24 california_housing_test.csv\n"
          ],
          "name": "stdout"
        }
      ]
    },
    {
      "cell_type": "code",
      "metadata": {
        "id": "LdBKYHCa3Qvo",
        "colab_type": "code",
        "colab": {}
      },
      "source": [
        "# Download an image for prediction.\n",
        "\n",
        "!wget --quiet https://raw.githubusercontent.com/Tony607/tf_jetson_nano/master/data/elephant.jpg"
      ],
      "execution_count": 0,
      "outputs": []
    },
    {
      "cell_type": "code",
      "metadata": {
        "id": "fJj0mrcn3t6q",
        "colab_type": "code",
        "outputId": "08818334-f871-48a8-b015-909705603525",
        "colab": {
          "base_uri": "https://localhost:8080/",
          "height": 102
        }
      },
      "source": [
        "!ls -lrt"
      ],
      "execution_count": 0,
      "outputs": [
        {
          "output_type": "stream",
          "text": [
            "total 224\n",
            "drwxr-xr-x 1 root root   4096 Apr  3 16:24 sample_data\n",
            "-rw-r--r-- 1 root root     46 Apr 10 02:01 myfile.txt\n",
            "-rw-r--r-- 1 root root     56 Apr 10 02:01 myfile2.txt\n",
            "-rw-r--r-- 1 root root 215334 Apr 10 02:15 elephant.jpg\n"
          ],
          "name": "stdout"
        }
      ]
    },
    {
      "cell_type": "code",
      "metadata": {
        "id": "oVw5lGWd35yg",
        "colab_type": "code",
        "outputId": "b2c4c9fa-5286-454e-97c8-7317d32d66dc",
        "colab": {
          "base_uri": "https://localhost:8080/",
          "height": 34
        }
      },
      "source": [
        "Path(data_dir)"
      ],
      "execution_count": 0,
      "outputs": [
        {
          "output_type": "execute_result",
          "data": {
            "text/plain": [
              "PosixPath('/root/.keras/datasets/flower_photos')"
            ]
          },
          "metadata": {
            "tags": []
          },
          "execution_count": 23
        }
      ]
    },
    {
      "cell_type": "markdown",
      "metadata": {
        "id": "c_95bgFN4p2d",
        "colab_type": "text"
      },
      "source": [
        "`glob` function can list all contents in a folder as indicated in [this reference](https://pbpython.com/pathlib-intro.html \"pathlib and glob\")"
      ]
    },
    {
      "cell_type": "code",
      "metadata": {
        "id": "0ZVlxnDd4W5t",
        "colab_type": "code",
        "outputId": "0ef5954c-336e-4b51-82bf-7ccbe3eefcf2",
        "colab": {
          "base_uri": "https://localhost:8080/",
          "height": 1000
        }
      },
      "source": [
        "list(data_dir.glob('*/*.jpg'))"
      ],
      "execution_count": 0,
      "outputs": [
        {
          "output_type": "execute_result",
          "data": {
            "text/plain": [
              "[PosixPath('/root/.keras/datasets/flower_photos/sunflowers/8192234807_fed4a46f1a_n.jpg'),\n",
              " PosixPath('/root/.keras/datasets/flower_photos/sunflowers/14741813110_94964c39e2_n.jpg'),\n",
              " PosixPath('/root/.keras/datasets/flower_photos/sunflowers/4806174512_e04475b766_n.jpg'),\n",
              " PosixPath('/root/.keras/datasets/flower_photos/sunflowers/19697910486_0086d893a2.jpg'),\n",
              " PosixPath('/root/.keras/datasets/flower_photos/sunflowers/3196753837_411b03682d_n.jpg'),\n",
              " PosixPath('/root/.keras/datasets/flower_photos/sunflowers/4816636411_0135bfe2c9_n.jpg'),\n",
              " PosixPath('/root/.keras/datasets/flower_photos/sunflowers/2694860538_b95d60122c_m.jpg'),\n",
              " PosixPath('/root/.keras/datasets/flower_photos/sunflowers/16988605969_570329ff20_n.jpg'),\n",
              " PosixPath('/root/.keras/datasets/flower_photos/sunflowers/14925398441_107f3e0304_n.jpg'),\n",
              " PosixPath('/root/.keras/datasets/flower_photos/sunflowers/5330608174_b49f7a4c48_m.jpg'),\n",
              " PosixPath('/root/.keras/datasets/flower_photos/sunflowers/3596902268_049e33a2cb_n.jpg'),\n",
              " PosixPath('/root/.keras/datasets/flower_photos/sunflowers/6482016439_b0d06dac04.jpg'),\n",
              " PosixPath('/root/.keras/datasets/flower_photos/sunflowers/184682095_46f8607278.jpg'),\n",
              " PosixPath('/root/.keras/datasets/flower_photos/sunflowers/5738580862_e128192f75.jpg'),\n",
              " PosixPath('/root/.keras/datasets/flower_photos/sunflowers/6198569587_23c3693328_m.jpg'),\n",
              " PosixPath('/root/.keras/datasets/flower_photos/sunflowers/5037531593_e2daf4c7f1.jpg'),\n",
              " PosixPath('/root/.keras/datasets/flower_photos/sunflowers/14932787983_d6e05f2434_m.jpg'),\n",
              " PosixPath('/root/.keras/datasets/flower_photos/sunflowers/9213511121_836a458021_m.jpg'),\n",
              " PosixPath('/root/.keras/datasets/flower_photos/sunflowers/6122711533_2c219f0392_n.jpg'),\n",
              " PosixPath('/root/.keras/datasets/flower_photos/sunflowers/9302733302_2cb92cf275.jpg'),\n",
              " PosixPath('/root/.keras/datasets/flower_photos/sunflowers/7820398908_4316bbba45.jpg'),\n",
              " PosixPath('/root/.keras/datasets/flower_photos/sunflowers/20183028616_beb937e75c_m.jpg'),\n",
              " PosixPath('/root/.keras/datasets/flower_photos/sunflowers/17148843706_df148301ac_n.jpg'),\n",
              " PosixPath('/root/.keras/datasets/flower_photos/sunflowers/9481563239_01b585b41d_n.jpg'),\n",
              " PosixPath('/root/.keras/datasets/flower_photos/sunflowers/4271193206_666ef60aa0_m.jpg'),\n",
              " PosixPath('/root/.keras/datasets/flower_photos/sunflowers/4933823300_39fd4420b6.jpg'),\n",
              " PosixPath('/root/.keras/datasets/flower_photos/sunflowers/16832961488_5f7e70eb5e_n.jpg'),\n",
              " PosixPath('/root/.keras/datasets/flower_photos/sunflowers/1044296388_912143e1d4.jpg'),\n",
              " PosixPath('/root/.keras/datasets/flower_photos/sunflowers/4818994715_9d90527d18_n.jpg'),\n",
              " PosixPath('/root/.keras/datasets/flower_photos/sunflowers/8543642705_b841b0e5f6.jpg'),\n",
              " PosixPath('/root/.keras/datasets/flower_photos/sunflowers/15066430311_fb57fa92b0_m.jpg'),\n",
              " PosixPath('/root/.keras/datasets/flower_photos/sunflowers/5955501969_e42f038a6f_n.jpg'),\n",
              " PosixPath('/root/.keras/datasets/flower_photos/sunflowers/20258015499_93b9951800_m.jpg'),\n",
              " PosixPath('/root/.keras/datasets/flower_photos/sunflowers/5967284308_85714d8cf7_m.jpg'),\n",
              " PosixPath('/root/.keras/datasets/flower_photos/sunflowers/8266310743_02095e782d_m.jpg'),\n",
              " PosixPath('/root/.keras/datasets/flower_photos/sunflowers/15042911059_b6153d94e7_n.jpg'),\n",
              " PosixPath('/root/.keras/datasets/flower_photos/sunflowers/8174970894_7f9a26be7e.jpg'),\n",
              " PosixPath('/root/.keras/datasets/flower_photos/sunflowers/4414083164_3f285f8ac5.jpg'),\n",
              " PosixPath('/root/.keras/datasets/flower_photos/sunflowers/200288046_0032f322ff_n.jpg'),\n",
              " PosixPath('/root/.keras/datasets/flower_photos/sunflowers/7530313068_ddd2dc1f44_m.jpg'),\n",
              " PosixPath('/root/.keras/datasets/flower_photos/sunflowers/2950505226_529e013bf7_m.jpg'),\n",
              " PosixPath('/root/.keras/datasets/flower_photos/sunflowers/2425164088_4a5d2cdf21_n.jpg'),\n",
              " PosixPath('/root/.keras/datasets/flower_photos/sunflowers/22183521655_56221bf2a4_n.jpg'),\n",
              " PosixPath('/root/.keras/datasets/flower_photos/sunflowers/15207507116_8b7f894508_m.jpg'),\n",
              " PosixPath('/root/.keras/datasets/flower_photos/sunflowers/3154932076_eff5c38231_n.jpg'),\n",
              " PosixPath('/root/.keras/datasets/flower_photos/sunflowers/4932736136_0115955987.jpg'),\n",
              " PosixPath('/root/.keras/datasets/flower_photos/sunflowers/9564240106_0577e919da_n.jpg'),\n",
              " PosixPath('/root/.keras/datasets/flower_photos/sunflowers/5526324308_b333da0e57_n.jpg'),\n",
              " PosixPath('/root/.keras/datasets/flower_photos/sunflowers/2328600790_90e2942557_n.jpg'),\n",
              " PosixPath('/root/.keras/datasets/flower_photos/sunflowers/6495559397_61d01c0c57.jpg'),\n",
              " PosixPath('/root/.keras/datasets/flower_photos/sunflowers/2759796022_55bd47bfa2_n.jpg'),\n",
              " PosixPath('/root/.keras/datasets/flower_photos/sunflowers/7176729016_d73ff2211e.jpg'),\n",
              " PosixPath('/root/.keras/datasets/flower_photos/sunflowers/50987813_7484bfbcdf.jpg'),\n",
              " PosixPath('/root/.keras/datasets/flower_photos/sunflowers/6958724008_12259943a7.jpg'),\n",
              " PosixPath('/root/.keras/datasets/flower_photos/sunflowers/45045003_30bbd0a142_m.jpg'),\n",
              " PosixPath('/root/.keras/datasets/flower_photos/sunflowers/8928614683_6c168edcfc.jpg'),\n",
              " PosixPath('/root/.keras/datasets/flower_photos/sunflowers/22755811033_cd17b109e0.jpg'),\n",
              " PosixPath('/root/.keras/datasets/flower_photos/sunflowers/14646281372_5f13794b47.jpg'),\n",
              " PosixPath('/root/.keras/datasets/flower_photos/sunflowers/215798357_3f4bfa27b7.jpg'),\n",
              " PosixPath('/root/.keras/datasets/flower_photos/sunflowers/5979669004_d9736206c9_n.jpg'),\n",
              " PosixPath('/root/.keras/datasets/flower_photos/sunflowers/9359374034_21fb12d613_n.jpg'),\n",
              " PosixPath('/root/.keras/datasets/flower_photos/sunflowers/9483429732_5ae73eb672_n.jpg'),\n",
              " PosixPath('/root/.keras/datasets/flower_photos/sunflowers/12471290635_1f9e3aae16_n.jpg'),\n",
              " PosixPath('/root/.keras/datasets/flower_photos/sunflowers/14969295739_c132a08663_n.jpg'),\n",
              " PosixPath('/root/.keras/datasets/flower_photos/sunflowers/20972862281_5367f4af88.jpg'),\n",
              " PosixPath('/root/.keras/datasets/flower_photos/sunflowers/4848279231_c4960e28b2_n.jpg'),\n",
              " PosixPath('/root/.keras/datasets/flower_photos/sunflowers/7654774598_6b715a8d3e.jpg'),\n",
              " PosixPath('/root/.keras/datasets/flower_photos/sunflowers/14646282112_447cc7d1f9.jpg'),\n",
              " PosixPath('/root/.keras/datasets/flower_photos/sunflowers/14741907467_fab96f3b2b_n.jpg'),\n",
              " PosixPath('/root/.keras/datasets/flower_photos/sunflowers/1240626292_52cd5d7fb1_m.jpg'),\n",
              " PosixPath('/root/.keras/datasets/flower_photos/sunflowers/8174941335_56389b53e9_n.jpg'),\n",
              " PosixPath('/root/.keras/datasets/flower_photos/sunflowers/8929213942_5544191250_n.jpg'),\n",
              " PosixPath('/root/.keras/datasets/flower_photos/sunflowers/6140661443_bb48344226.jpg'),\n",
              " PosixPath('/root/.keras/datasets/flower_photos/sunflowers/6140693467_211a135b6d.jpg'),\n",
              " PosixPath('/root/.keras/datasets/flower_photos/sunflowers/4814106562_7c3564d2d9_n.jpg'),\n",
              " PosixPath('/root/.keras/datasets/flower_photos/sunflowers/8249000137_eddfffa380_n.jpg'),\n",
              " PosixPath('/root/.keras/datasets/flower_photos/sunflowers/24459750_eb49f6e4cb_m.jpg'),\n",
              " PosixPath('/root/.keras/datasets/flower_photos/sunflowers/7791014076_07a897cb85_n.jpg'),\n",
              " PosixPath('/root/.keras/datasets/flower_photos/sunflowers/1379256773_bb2eb0d95b_n.jpg'),\n",
              " PosixPath('/root/.keras/datasets/flower_photos/sunflowers/5917253022_4e3142d48b_n.jpg'),\n",
              " PosixPath('/root/.keras/datasets/flower_photos/sunflowers/40410686_272bc66faf_m.jpg'),\n",
              " PosixPath('/root/.keras/datasets/flower_photos/sunflowers/20410533613_56da1cce7c.jpg'),\n",
              " PosixPath('/root/.keras/datasets/flower_photos/sunflowers/5970868068_fe1c8b282e_n.jpg'),\n",
              " PosixPath('/root/.keras/datasets/flower_photos/sunflowers/14678298676_6db8831ee6_m.jpg'),\n",
              " PosixPath('/root/.keras/datasets/flower_photos/sunflowers/4933821940_38064522a8.jpg'),\n",
              " PosixPath('/root/.keras/datasets/flower_photos/sunflowers/15054864058_2edca122a9_n.jpg'),\n",
              " PosixPath('/root/.keras/datasets/flower_photos/sunflowers/4933823922_911ac40b0d.jpg'),\n",
              " PosixPath('/root/.keras/datasets/flower_photos/sunflowers/9309473873_9d62b9082e.jpg'),\n",
              " PosixPath('/root/.keras/datasets/flower_photos/sunflowers/5037790727_57c527494f.jpg'),\n",
              " PosixPath('/root/.keras/datasets/flower_photos/sunflowers/6050020905_881295ac72_n.jpg'),\n",
              " PosixPath('/root/.keras/datasets/flower_photos/sunflowers/4186808407_06688641e2_n.jpg'),\n",
              " PosixPath('/root/.keras/datasets/flower_photos/sunflowers/5979111025_3bcae48ae6_n.jpg'),\n",
              " PosixPath('/root/.keras/datasets/flower_photos/sunflowers/2723995667_31f32294b4.jpg'),\n",
              " PosixPath('/root/.keras/datasets/flower_photos/sunflowers/4871455214_8b5fb87ab6_n.jpg'),\n",
              " PosixPath('/root/.keras/datasets/flower_photos/sunflowers/14741812319_e1d32ffb84_n.jpg'),\n",
              " PosixPath('/root/.keras/datasets/flower_photos/sunflowers/1419608016_707b887337_n.jpg'),\n",
              " PosixPath('/root/.keras/datasets/flower_photos/sunflowers/2894191705_a1d2d80c80.jpg'),\n",
              " PosixPath('/root/.keras/datasets/flower_photos/sunflowers/9555827829_74e6f60f1d_m.jpg'),\n",
              " PosixPath('/root/.keras/datasets/flower_photos/sunflowers/40410963_3ac280f23a_n.jpg'),\n",
              " PosixPath('/root/.keras/datasets/flower_photos/sunflowers/13096076565_72c2c60875_n.jpg'),\n",
              " PosixPath('/root/.keras/datasets/flower_photos/sunflowers/4745980581_a0b7585258_n.jpg'),\n",
              " PosixPath('/root/.keras/datasets/flower_photos/sunflowers/15241052342_466b38b68d.jpg'),\n",
              " PosixPath('/root/.keras/datasets/flower_photos/sunflowers/15122112402_cafa41934f.jpg'),\n",
              " PosixPath('/root/.keras/datasets/flower_photos/sunflowers/12471441503_d188b5f31a_m.jpg'),\n",
              " PosixPath('/root/.keras/datasets/flower_photos/sunflowers/6953297_8576bf4ea3.jpg'),\n",
              " PosixPath('/root/.keras/datasets/flower_photos/sunflowers/18828277053_1493158b28.jpg'),\n",
              " PosixPath('/root/.keras/datasets/flower_photos/sunflowers/6239758929_50e5e5a476_m.jpg'),\n",
              " PosixPath('/root/.keras/datasets/flower_photos/sunflowers/14741813010_5d44e33088_n.jpg'),\n",
              " PosixPath('/root/.keras/datasets/flower_photos/sunflowers/5923085891_27617463fe.jpg'),\n",
              " PosixPath('/root/.keras/datasets/flower_photos/sunflowers/13959937305_2f5c532886_n.jpg'),\n",
              " PosixPath('/root/.keras/datasets/flower_photos/sunflowers/5955475577_3d923874d9_n.jpg'),\n",
              " PosixPath('/root/.keras/datasets/flower_photos/sunflowers/21821266773_7113d34c35_m.jpg'),\n",
              " PosixPath('/root/.keras/datasets/flower_photos/sunflowers/4755705724_976621a1e7.jpg'),\n",
              " PosixPath('/root/.keras/datasets/flower_photos/sunflowers/14925397351_c7f209d804_n.jpg'),\n",
              " PosixPath('/root/.keras/datasets/flower_photos/sunflowers/15240466871_ec45b65554_m.jpg'),\n",
              " PosixPath('/root/.keras/datasets/flower_photos/sunflowers/2767658405_1e2043f44c_n.jpg'),\n",
              " PosixPath('/root/.keras/datasets/flower_photos/sunflowers/8014735546_3db46bb1fe_n.jpg'),\n",
              " PosixPath('/root/.keras/datasets/flower_photos/sunflowers/5923649444_a823e534e9.jpg'),\n",
              " PosixPath('/root/.keras/datasets/flower_photos/sunflowers/3575811488_a31714472a.jpg'),\n",
              " PosixPath('/root/.keras/datasets/flower_photos/sunflowers/6080086410_17a02dcfb8.jpg'),\n",
              " PosixPath('/root/.keras/datasets/flower_photos/sunflowers/15495578821_92c6d14252_n.jpg'),\n",
              " PosixPath('/root/.keras/datasets/flower_photos/sunflowers/5970301989_fe3a68aac8_m.jpg'),\n",
              " PosixPath('/root/.keras/datasets/flower_photos/sunflowers/6061177447_d8ce96aee0.jpg'),\n",
              " PosixPath('/root/.keras/datasets/flower_photos/sunflowers/4414080766_5116e8084e.jpg'),\n",
              " PosixPath('/root/.keras/datasets/flower_photos/sunflowers/5999024446_5721493894.jpg'),\n",
              " PosixPath('/root/.keras/datasets/flower_photos/sunflowers/19710076021_f5bb162540.jpg'),\n",
              " PosixPath('/root/.keras/datasets/flower_photos/sunflowers/3062794421_295f8c2c4e.jpg'),\n",
              " PosixPath('/root/.keras/datasets/flower_photos/sunflowers/4933822272_79af205b94.jpg'),\n",
              " PosixPath('/root/.keras/datasets/flower_photos/sunflowers/4977385375_e271e282f9.jpg'),\n",
              " PosixPath('/root/.keras/datasets/flower_photos/sunflowers/9610373158_5250bce6ac_n.jpg'),\n",
              " PosixPath('/root/.keras/datasets/flower_photos/sunflowers/4341530649_c17bbc5d01.jpg'),\n",
              " PosixPath('/root/.keras/datasets/flower_photos/sunflowers/253586685_ee5b5f5232.jpg'),\n",
              " PosixPath('/root/.keras/datasets/flower_photos/sunflowers/18843967474_9cb552716b.jpg'),\n",
              " PosixPath('/root/.keras/datasets/flower_photos/sunflowers/20078409301_aa8061bd0b_n.jpg'),\n",
              " PosixPath('/root/.keras/datasets/flower_photos/sunflowers/16656015339_2ccb7cd18d.jpg'),\n",
              " PosixPath('/root/.keras/datasets/flower_photos/sunflowers/2949654221_909b0c86a1_n.jpg'),\n",
              " PosixPath('/root/.keras/datasets/flower_photos/sunflowers/23286304156_3635f7de05.jpg'),\n",
              " PosixPath('/root/.keras/datasets/flower_photos/sunflowers/969913643_9d5cd2fe45_m.jpg'),\n",
              " PosixPath('/root/.keras/datasets/flower_photos/sunflowers/5979668702_fdaec9e164_n.jpg'),\n",
              " PosixPath('/root/.keras/datasets/flower_photos/sunflowers/4933229095_f7e4218b28.jpg'),\n",
              " PosixPath('/root/.keras/datasets/flower_photos/sunflowers/3681233294_4f06cd8903.jpg'),\n",
              " PosixPath('/root/.keras/datasets/flower_photos/sunflowers/14741866338_bdc8bfc8d5_n.jpg'),\n",
              " PosixPath('/root/.keras/datasets/flower_photos/sunflowers/3683873444_be4a609c46.jpg'),\n",
              " PosixPath('/root/.keras/datasets/flower_photos/sunflowers/5994572653_ea98afa3af_n.jpg'),\n",
              " PosixPath('/root/.keras/datasets/flower_photos/sunflowers/4746638094_f5336788a0_n.jpg'),\n",
              " PosixPath('/root/.keras/datasets/flower_photos/sunflowers/9448615838_04078d09bf_n.jpg'),\n",
              " PosixPath('/root/.keras/datasets/flower_photos/sunflowers/5556633113_0a04f5ed8a_n.jpg'),\n",
              " PosixPath('/root/.keras/datasets/flower_photos/sunflowers/3838274225_36010c6254_n.jpg'),\n",
              " PosixPath('/root/.keras/datasets/flower_photos/sunflowers/5025805406_033cb03475_n.jpg'),\n",
              " PosixPath('/root/.keras/datasets/flower_photos/sunflowers/4191299785_a4faca9b74_n.jpg'),\n",
              " PosixPath('/root/.keras/datasets/flower_photos/sunflowers/4745991955_6804568ae0_n.jpg'),\n",
              " PosixPath('/root/.keras/datasets/flower_photos/sunflowers/200011914_93f57ed68b.jpg'),\n",
              " PosixPath('/root/.keras/datasets/flower_photos/sunflowers/1022552002_2b93faf9e7_n.jpg'),\n",
              " PosixPath('/root/.keras/datasets/flower_photos/sunflowers/22405887122_75eda1872f_m.jpg'),\n",
              " PosixPath('/root/.keras/datasets/flower_photos/sunflowers/5004121118_e9393e60d0_n.jpg'),\n",
              " PosixPath('/root/.keras/datasets/flower_photos/sunflowers/14397276020_49f9423614.jpg'),\n",
              " PosixPath('/root/.keras/datasets/flower_photos/sunflowers/14881304632_54a9dfb8be.jpg'),\n",
              " PosixPath('/root/.keras/datasets/flower_photos/sunflowers/1064662314_c5a7891b9f_m.jpg'),\n",
              " PosixPath('/root/.keras/datasets/flower_photos/sunflowers/265422922_bbbde781d2_m.jpg'),\n",
              " PosixPath('/root/.keras/datasets/flower_photos/sunflowers/6140808687_88df0fd733.jpg'),\n",
              " PosixPath('/root/.keras/datasets/flower_photos/sunflowers/3146795631_d062f233c1.jpg'),\n",
              " PosixPath('/root/.keras/datasets/flower_photos/sunflowers/20972866151_e6a928b00a.jpg'),\n",
              " PosixPath('/root/.keras/datasets/flower_photos/sunflowers/15054865217_e398d0dc9f_n.jpg'),\n",
              " PosixPath('/root/.keras/datasets/flower_photos/sunflowers/4933229889_c5d9e36392.jpg'),\n",
              " PosixPath('/root/.keras/datasets/flower_photos/sunflowers/29972905_4cc537ff4b_n.jpg'),\n",
              " PosixPath('/root/.keras/datasets/flower_photos/sunflowers/9384867134_83af458a19_n.jpg'),\n",
              " PosixPath('/root/.keras/datasets/flower_photos/sunflowers/15839183375_49bf4f75e8_m.jpg'),\n",
              " PosixPath('/root/.keras/datasets/flower_photos/sunflowers/7652532108_01ef94c476.jpg'),\n",
              " PosixPath('/root/.keras/datasets/flower_photos/sunflowers/8478248531_1a16e232b5.jpg'),\n",
              " PosixPath('/root/.keras/datasets/flower_photos/sunflowers/6125761554_4e72819ce4_m.jpg'),\n",
              " PosixPath('/root/.keras/datasets/flower_photos/sunflowers/10386525695_2c38fea555_n.jpg'),\n",
              " PosixPath('/root/.keras/datasets/flower_photos/sunflowers/9558628596_722c29ec60_m.jpg'),\n",
              " PosixPath('/root/.keras/datasets/flower_photos/sunflowers/4664737020_b4c61aacd3_n.jpg'),\n",
              " PosixPath('/root/.keras/datasets/flower_photos/sunflowers/7603036176_9e8967cd21.jpg'),\n",
              " PosixPath('/root/.keras/datasets/flower_photos/sunflowers/4673984698_6ec14d5b79.jpg'),\n",
              " PosixPath('/root/.keras/datasets/flower_photos/sunflowers/3815322974_52c12dbde3.jpg'),\n",
              " PosixPath('/root/.keras/datasets/flower_photos/sunflowers/2729206569_9dd2b5a3ed.jpg'),\n",
              " PosixPath('/root/.keras/datasets/flower_photos/sunflowers/22686342422_c0b9e2f38e.jpg'),\n",
              " PosixPath('/root/.keras/datasets/flower_photos/sunflowers/13095941995_9a66faa713_n.jpg'),\n",
              " PosixPath('/root/.keras/datasets/flower_photos/sunflowers/8174935013_b16626b49b.jpg'),\n",
              " PosixPath('/root/.keras/datasets/flower_photos/sunflowers/16616096711_12375a0260_n.jpg'),\n",
              " PosixPath('/root/.keras/datasets/flower_photos/sunflowers/5830614551_e460a1215c.jpg'),\n",
              " PosixPath('/root/.keras/datasets/flower_photos/sunflowers/3893436870_034b79d118_n.jpg'),\n",
              " PosixPath('/root/.keras/datasets/flower_photos/sunflowers/18237215308_a158d49f28_n.jpg'),\n",
              " PosixPath('/root/.keras/datasets/flower_photos/sunflowers/175638423_058c07afb9.jpg'),\n",
              " PosixPath('/root/.keras/datasets/flower_photos/sunflowers/2706304885_4916102704_n.jpg'),\n",
              " PosixPath('/root/.keras/datasets/flower_photos/sunflowers/2720698862_486d3ec079_m.jpg'),\n",
              " PosixPath('/root/.keras/datasets/flower_photos/sunflowers/1244774242_25a20d99a9.jpg'),\n",
              " PosixPath('/root/.keras/datasets/flower_photos/sunflowers/14623720226_aeeac66e0a_n.jpg'),\n",
              " PosixPath('/root/.keras/datasets/flower_photos/sunflowers/4932144003_cbffc89bf0.jpg'),\n",
              " PosixPath('/root/.keras/datasets/flower_photos/sunflowers/4846786944_2832c5c8b8.jpg'),\n",
              " PosixPath('/root/.keras/datasets/flower_photos/sunflowers/6061175433_95fdb12f32_n.jpg'),\n",
              " PosixPath('/root/.keras/datasets/flower_photos/sunflowers/3840761441_7c648abf4d_n.jpg'),\n",
              " PosixPath('/root/.keras/datasets/flower_photos/sunflowers/4895721242_89014e723c_n.jpg'),\n",
              " PosixPath('/root/.keras/datasets/flower_photos/sunflowers/4940287066_385afd9c18_m.jpg'),\n",
              " PosixPath('/root/.keras/datasets/flower_photos/sunflowers/20342824594_9740b7b160.jpg'),\n",
              " PosixPath('/root/.keras/datasets/flower_photos/sunflowers/4893660821_eb7f02bef3_n.jpg'),\n",
              " PosixPath('/root/.keras/datasets/flower_photos/sunflowers/6908789145_814d448bb1_n.jpg'),\n",
              " PosixPath('/root/.keras/datasets/flower_photos/sunflowers/5293283002_9b17f085f7_m.jpg'),\n",
              " PosixPath('/root/.keras/datasets/flower_photos/sunflowers/22405882322_d4561f8469_n.jpg'),\n",
              " PosixPath('/root/.keras/datasets/flower_photos/sunflowers/147804446_ef9244c8ce_m.jpg'),\n",
              " PosixPath('/root/.keras/datasets/flower_photos/sunflowers/7012366081_019c8a17a4_m.jpg'),\n",
              " PosixPath('/root/.keras/datasets/flower_photos/sunflowers/8014734302_65c6e83bb4_m.jpg'),\n",
              " PosixPath('/root/.keras/datasets/flower_photos/sunflowers/164670455_29d8e02bbd_n.jpg'),\n",
              " PosixPath('/root/.keras/datasets/flower_photos/sunflowers/21518663809_3d69f5b995_n.jpg'),\n",
              " PosixPath('/root/.keras/datasets/flower_photos/sunflowers/9588522189_db6166f67f.jpg'),\n",
              " PosixPath('/root/.keras/datasets/flower_photos/sunflowers/4746668678_0e2693b1b9_n.jpg'),\n",
              " PosixPath('/root/.keras/datasets/flower_photos/sunflowers/7176723954_e41618edc1_n.jpg'),\n",
              " PosixPath('/root/.keras/datasets/flower_photos/sunflowers/5492906452_80943bfd04.jpg'),\n",
              " PosixPath('/root/.keras/datasets/flower_photos/sunflowers/15241431045_65201cf15a_n.jpg'),\n",
              " PosixPath('/root/.keras/datasets/flower_photos/sunflowers/22419079265_8902cddb7d_n.jpg'),\n",
              " PosixPath('/root/.keras/datasets/flower_photos/sunflowers/14928117202_139d2142cc_n.jpg'),\n",
              " PosixPath('/root/.keras/datasets/flower_photos/sunflowers/164671753_ab36d9cbb7_n.jpg'),\n",
              " PosixPath('/root/.keras/datasets/flower_photos/sunflowers/2443095419_17b920d155_m.jpg'),\n",
              " PosixPath('/root/.keras/datasets/flower_photos/sunflowers/1008566138_6927679c8a.jpg'),\n",
              " PosixPath('/root/.keras/datasets/flower_photos/sunflowers/1880606744_23e3dc4f6b_n.jpg'),\n",
              " PosixPath('/root/.keras/datasets/flower_photos/sunflowers/4933229197_ff75a40d55.jpg'),\n",
              " PosixPath('/root/.keras/datasets/flower_photos/sunflowers/9111896677_ff0b6fa6f6_n.jpg'),\n",
              " PosixPath('/root/.keras/datasets/flower_photos/sunflowers/4895719476_bd3b6bd6fd_n.jpg'),\n",
              " PosixPath('/root/.keras/datasets/flower_photos/sunflowers/19784656639_cd7f0a4a26_m.jpg'),\n",
              " PosixPath('/root/.keras/datasets/flower_photos/sunflowers/20667988875_6e73ac2879_n.jpg'),\n",
              " PosixPath('/root/.keras/datasets/flower_photos/sunflowers/8563099326_8be9177101.jpg'),\n",
              " PosixPath('/root/.keras/datasets/flower_photos/sunflowers/1715303025_e7065327e2.jpg'),\n",
              " PosixPath('/root/.keras/datasets/flower_photos/sunflowers/4933228903_9ae82d0b9d.jpg'),\n",
              " PosixPath('/root/.keras/datasets/flower_photos/sunflowers/22429146402_332fa2fc72_m.jpg'),\n",
              " PosixPath('/root/.keras/datasets/flower_photos/sunflowers/7820305664_82148f3bfb_n.jpg'),\n",
              " PosixPath('/root/.keras/datasets/flower_photos/sunflowers/2980154410_bffd7a3452_n.jpg'),\n",
              " PosixPath('/root/.keras/datasets/flower_photos/sunflowers/6198569425_e953b9e6cc_m.jpg'),\n",
              " PosixPath('/root/.keras/datasets/flower_photos/sunflowers/21134000558_d7d6c9b1fe_n.jpg'),\n",
              " PosixPath('/root/.keras/datasets/flower_photos/sunflowers/5020805619_6c710793f7.jpg'),\n",
              " PosixPath('/root/.keras/datasets/flower_photos/sunflowers/6199086734_b7ddc65816_m.jpg'),\n",
              " PosixPath('/root/.keras/datasets/flower_photos/sunflowers/15191613243_82ee8e0fe8.jpg'),\n",
              " PosixPath('/root/.keras/datasets/flower_photos/sunflowers/13354458753_7b586f7c95_n.jpg'),\n",
              " PosixPath('/root/.keras/datasets/flower_photos/sunflowers/9610374042_bb16cded3d.jpg'),\n",
              " PosixPath('/root/.keras/datasets/flower_photos/sunflowers/8481979626_98c9f88848_n.jpg'),\n",
              " PosixPath('/root/.keras/datasets/flower_photos/sunflowers/7012364067_5ffc7654c9_m.jpg'),\n",
              " PosixPath('/root/.keras/datasets/flower_photos/sunflowers/2706736074_b0fba20b3e.jpg'),\n",
              " PosixPath('/root/.keras/datasets/flower_photos/sunflowers/4746648726_e37a2de16d_n.jpg'),\n",
              " PosixPath('/root/.keras/datasets/flower_photos/sunflowers/9445830851_e9a126fd1d_n.jpg'),\n",
              " PosixPath('/root/.keras/datasets/flower_photos/sunflowers/9056495873_66e351b17c_n.jpg'),\n",
              " PosixPath('/root/.keras/datasets/flower_photos/sunflowers/4895720722_8247f2015b_n.jpg'),\n",
              " PosixPath('/root/.keras/datasets/flower_photos/sunflowers/5067864967_19928ca94c_m.jpg'),\n",
              " PosixPath('/root/.keras/datasets/flower_photos/sunflowers/200557983_10a88672fc.jpg'),\n",
              " PosixPath('/root/.keras/datasets/flower_photos/sunflowers/15266715291_dfa3f1d49f_n.jpg'),\n",
              " PosixPath('/root/.keras/datasets/flower_photos/sunflowers/15054753070_4f6ae0e763_m.jpg'),\n",
              " PosixPath('/root/.keras/datasets/flower_photos/sunflowers/3922005347_7b6fb82fcd.jpg'),\n",
              " PosixPath('/root/.keras/datasets/flower_photos/sunflowers/5043409092_5b12cc985a_m.jpg'),\n",
              " PosixPath('/root/.keras/datasets/flower_photos/sunflowers/6606741847_f0198d83ff.jpg'),\n",
              " PosixPath('/root/.keras/datasets/flower_photos/sunflowers/244074259_47ce6d3ef9.jpg'),\n",
              " PosixPath('/root/.keras/datasets/flower_photos/sunflowers/6204049536_1ac4f09232_n.jpg'),\n",
              " PosixPath('/root/.keras/datasets/flower_photos/sunflowers/18972803569_1a0634f398_m.jpg'),\n",
              " PosixPath('/root/.keras/datasets/flower_photos/sunflowers/3514340206_efb8198a80_n.jpg'),\n",
              " PosixPath('/root/.keras/datasets/flower_photos/sunflowers/15745084272_36402f5ee6_n.jpg'),\n",
              " PosixPath('/root/.keras/datasets/flower_photos/sunflowers/2940221732_3507f3e927_n.jpg'),\n",
              " PosixPath('/root/.keras/datasets/flower_photos/sunflowers/8021568040_f891223c44_n.jpg'),\n",
              " PosixPath('/root/.keras/datasets/flower_photos/sunflowers/22416421196_caf131c9fa_m.jpg'),\n",
              " PosixPath('/root/.keras/datasets/flower_photos/sunflowers/4895124535_11a2bb704c_m.jpg'),\n",
              " PosixPath('/root/.keras/datasets/flower_photos/sunflowers/5007598545_90e08e81c1_n.jpg'),\n",
              " PosixPath('/root/.keras/datasets/flower_photos/sunflowers/22429946721_e17a12cb39_n.jpg'),\n",
              " PosixPath('/root/.keras/datasets/flower_photos/sunflowers/1788133737_b1133d1aa7.jpg'),\n",
              " PosixPath('/root/.keras/datasets/flower_photos/sunflowers/8292914969_4a76608250_m.jpg'),\n",
              " PosixPath('/root/.keras/datasets/flower_photos/sunflowers/23356825566_f5885875f2.jpg'),\n",
              " PosixPath('/root/.keras/datasets/flower_photos/sunflowers/19756232959_17cde3b9f0_m.jpg'),\n",
              " PosixPath('/root/.keras/datasets/flower_photos/sunflowers/10862313945_e8ed9202d9_m.jpg'),\n",
              " PosixPath('/root/.keras/datasets/flower_photos/sunflowers/20777375650_ef854bf645.jpg'),\n",
              " PosixPath('/root/.keras/datasets/flower_photos/sunflowers/4933822422_4f54fc7cc8.jpg'),\n",
              " PosixPath('/root/.keras/datasets/flower_photos/sunflowers/18237156988_9ceb46a8de_n.jpg'),\n",
              " PosixPath('/root/.keras/datasets/flower_photos/sunflowers/4933230161_12f3ee7587.jpg'),\n",
              " PosixPath('/root/.keras/datasets/flower_photos/sunflowers/10386525005_fd0b7d6c55_n.jpg'),\n",
              " PosixPath('/root/.keras/datasets/flower_photos/sunflowers/4932736308_827012cff2.jpg'),\n",
              " PosixPath('/root/.keras/datasets/flower_photos/sunflowers/14955545254_324cd4ee75.jpg'),\n",
              " PosixPath('/root/.keras/datasets/flower_photos/sunflowers/19453165201_2aa747e0bf.jpg'),\n",
              " PosixPath('/root/.keras/datasets/flower_photos/sunflowers/200557981_f800fa1af9.jpg'),\n",
              " PosixPath('/root/.keras/datasets/flower_photos/sunflowers/7176729812_7c053921fb_m.jpg'),\n",
              " PosixPath('/root/.keras/datasets/flower_photos/sunflowers/15069459615_7e0fd61914_n.jpg'),\n",
              " PosixPath('/root/.keras/datasets/flower_photos/sunflowers/40411019_526f3fc8d9_m.jpg'),\n",
              " PosixPath('/root/.keras/datasets/flower_photos/sunflowers/9538283930_0faea083bb_n.jpg'),\n",
              " PosixPath('/root/.keras/datasets/flower_photos/sunflowers/4878447831_e904c60cf8_n.jpg'),\n",
              " PosixPath('/root/.keras/datasets/flower_photos/sunflowers/2588234269_c4bfd0d8b9_n.jpg'),\n",
              " PosixPath('/root/.keras/datasets/flower_photos/sunflowers/8081530919_c882d46bb0_n.jpg'),\n",
              " PosixPath('/root/.keras/datasets/flower_photos/sunflowers/5995136822_8e1eed76f5_n.jpg'),\n",
              " PosixPath('/root/.keras/datasets/flower_photos/sunflowers/184682506_8a9b8c662d.jpg'),\n",
              " PosixPath('/root/.keras/datasets/flower_photos/sunflowers/14889779907_3d401bbac7_m.jpg'),\n",
              " PosixPath('/root/.keras/datasets/flower_photos/sunflowers/7586498522_4dcab1c8d2_m.jpg'),\n",
              " PosixPath('/root/.keras/datasets/flower_photos/sunflowers/7935826214_9b57628203_m.jpg'),\n",
              " PosixPath('/root/.keras/datasets/flower_photos/sunflowers/1297092593_e573c0a3d6.jpg'),\n",
              " PosixPath('/root/.keras/datasets/flower_photos/sunflowers/5139971615_434ff8ed8b_n.jpg'),\n",
              " PosixPath('/root/.keras/datasets/flower_photos/sunflowers/20410697750_c43973d1eb.jpg'),\n",
              " PosixPath('/root/.keras/datasets/flower_photos/sunflowers/20171662239_f69b6c12bd_n.jpg'),\n",
              " PosixPath('/root/.keras/datasets/flower_photos/sunflowers/1240625276_fb3bd0c7b1.jpg'),\n",
              " PosixPath('/root/.keras/datasets/flower_photos/sunflowers/7510262868_cf7d6f6f25_n.jpg'),\n",
              " PosixPath('/root/.keras/datasets/flower_photos/sunflowers/20621698991_dcb323911d.jpg'),\n",
              " PosixPath('/root/.keras/datasets/flower_photos/sunflowers/7270375648_79f0caef42_n.jpg'),\n",
              " PosixPath('/root/.keras/datasets/flower_photos/sunflowers/2697194548_ec8f8de97c_n.jpg'),\n",
              " PosixPath('/root/.keras/datasets/flower_photos/sunflowers/15243175532_ac28c48e14_m.jpg'),\n",
              " PosixPath('/root/.keras/datasets/flower_photos/sunflowers/15973657966_d6f6005539_n.jpg'),\n",
              " PosixPath('/root/.keras/datasets/flower_photos/sunflowers/5139977579_ea2dd6a322_m.jpg'),\n",
              " PosixPath('/root/.keras/datasets/flower_photos/sunflowers/6250692311_cb60c85ee9_n.jpg'),\n",
              " PosixPath('/root/.keras/datasets/flower_photos/sunflowers/4932735566_2327bf319a.jpg'),\n",
              " PosixPath('/root/.keras/datasets/flower_photos/sunflowers/8174972548_0051c2d431.jpg'),\n",
              " PosixPath('/root/.keras/datasets/flower_photos/sunflowers/19442589512_e733cfea0f.jpg'),\n",
              " PosixPath('/root/.keras/datasets/flower_photos/sunflowers/14623719696_1bb7970208_n.jpg'),\n",
              " PosixPath('/root/.keras/datasets/flower_photos/sunflowers/16975010069_7afd290657_m.jpg'),\n",
              " PosixPath('/root/.keras/datasets/flower_photos/sunflowers/6606820461_952c450f90_n.jpg'),\n",
              " PosixPath('/root/.keras/datasets/flower_photos/sunflowers/4933824130_b99839a80d.jpg'),\n",
              " PosixPath('/root/.keras/datasets/flower_photos/sunflowers/20344282483_05abb0b837.jpg'),\n",
              " PosixPath('/root/.keras/datasets/flower_photos/sunflowers/5028817729_f04d32bac8_n.jpg'),\n",
              " PosixPath('/root/.keras/datasets/flower_photos/sunflowers/5952223760_85972671d6_n.jpg'),\n",
              " PosixPath('/root/.keras/datasets/flower_photos/sunflowers/3568925290_faf7aec3a0.jpg'),\n",
              " PosixPath('/root/.keras/datasets/flower_photos/sunflowers/20658775992_1619cd0a9b_n.jpg'),\n",
              " PosixPath('/root/.keras/datasets/flower_photos/sunflowers/3466923719_b4b6df7f8b_n.jpg'),\n",
              " PosixPath('/root/.keras/datasets/flower_photos/sunflowers/8929288228_6795bcb1fe.jpg'),\n",
              " PosixPath('/root/.keras/datasets/flower_photos/sunflowers/2442985637_8748180f69.jpg'),\n",
              " PosixPath('/root/.keras/datasets/flower_photos/sunflowers/23645265812_24352ff6bf.jpg'),\n",
              " PosixPath('/root/.keras/datasets/flower_photos/sunflowers/210076535_80951bc5d5.jpg'),\n",
              " PosixPath('/root/.keras/datasets/flower_photos/sunflowers/164672339_f2b5b164f6.jpg'),\n",
              " PosixPath('/root/.keras/datasets/flower_photos/sunflowers/40411100_7fbe10ec0f_n.jpg'),\n",
              " PosixPath('/root/.keras/datasets/flower_photos/sunflowers/6606813305_c992231d29_m.jpg'),\n",
              " PosixPath('/root/.keras/datasets/flower_photos/sunflowers/200557977_bf24d9550b.jpg'),\n",
              " PosixPath('/root/.keras/datasets/flower_photos/sunflowers/6482016425_d8fab362f6.jpg'),\n",
              " PosixPath('/root/.keras/datasets/flower_photos/sunflowers/5973935729_2868f2db1f_n.jpg'),\n",
              " PosixPath('/root/.keras/datasets/flower_photos/sunflowers/7369484298_332f69bd88_n.jpg'),\n",
              " PosixPath('/root/.keras/datasets/flower_photos/sunflowers/5955500463_6c08cb199e.jpg'),\n",
              " PosixPath('/root/.keras/datasets/flower_photos/sunflowers/3832945398_96509d192b.jpg'),\n",
              " PosixPath('/root/.keras/datasets/flower_photos/sunflowers/4942258704_c4146b710a_n.jpg'),\n",
              " PosixPath('/root/.keras/datasets/flower_photos/sunflowers/1217254584_4b3028b93d.jpg'),\n",
              " PosixPath('/root/.keras/datasets/flower_photos/sunflowers/6145005439_ef6e07f9c6_n.jpg'),\n",
              " PosixPath('/root/.keras/datasets/flower_photos/sunflowers/9610098411_f1613c8e14.jpg'),\n",
              " PosixPath('/root/.keras/datasets/flower_photos/sunflowers/26254755_1bfc494ef1_n.jpg'),\n",
              " PosixPath('/root/.keras/datasets/flower_photos/sunflowers/44079668_34dfee3da1_n.jpg'),\n",
              " PosixPath('/root/.keras/datasets/flower_photos/sunflowers/5032376020_2ed312306c.jpg'),\n",
              " PosixPath('/root/.keras/datasets/flower_photos/sunflowers/10386503264_e05387e1f7_m.jpg'),\n",
              " PosixPath('/root/.keras/datasets/flower_photos/sunflowers/20753711039_0b11d24b50_n.jpg'),\n",
              " PosixPath('/root/.keras/datasets/flower_photos/sunflowers/184682652_c927a49226_m.jpg'),\n",
              " PosixPath('/root/.keras/datasets/flower_photos/sunflowers/14460081668_eda8795693_m.jpg'),\n",
              " PosixPath('/root/.keras/datasets/flower_photos/sunflowers/2960610406_b61930727f_n.jpg'),\n",
              " PosixPath('/root/.keras/datasets/flower_photos/sunflowers/3912497888_e7a5905bc3_n.jpg'),\n",
              " PosixPath('/root/.keras/datasets/flower_photos/sunflowers/4933230547_394f618009_m.jpg'),\n",
              " PosixPath('/root/.keras/datasets/flower_photos/sunflowers/22478719251_276cb094f9_n.jpg'),\n",
              " PosixPath('/root/.keras/datasets/flower_photos/sunflowers/2307673262_e1e1aefd29.jpg'),\n",
              " PosixPath('/root/.keras/datasets/flower_photos/sunflowers/39271782_b4335d09ae_n.jpg'),\n",
              " PosixPath('/root/.keras/datasets/flower_photos/sunflowers/5437996076_cf7e2ac32e_n.jpg'),\n",
              " PosixPath('/root/.keras/datasets/flower_photos/sunflowers/5970869550_d7d9fabebd_n.jpg'),\n",
              " PosixPath('/root/.keras/datasets/flower_photos/sunflowers/215798354_429de28c2d.jpg'),\n",
              " PosixPath('/root/.keras/datasets/flower_photos/sunflowers/5027895361_ace3b731e5_n.jpg'),\n",
              " PosixPath('/root/.keras/datasets/flower_photos/sunflowers/1240624822_4111dde542.jpg'),\n",
              " PosixPath('/root/.keras/datasets/flower_photos/sunflowers/4398771472_44f2a0c162_n.jpg'),\n",
              " PosixPath('/root/.keras/datasets/flower_photos/sunflowers/200557979_a16112aac1_n.jpg'),\n",
              " PosixPath('/root/.keras/datasets/flower_photos/sunflowers/21796333524_38fc8e0ab5_n.jpg'),\n",
              " PosixPath('/root/.keras/datasets/flower_photos/sunflowers/5979111555_61b400c070_n.jpg'),\n",
              " PosixPath('/root/.keras/datasets/flower_photos/sunflowers/2979297519_17a08b37f6_m.jpg'),\n",
              " PosixPath('/root/.keras/datasets/flower_photos/sunflowers/4989952542_35f2cdd5e2_n.jpg'),\n",
              " PosixPath('/root/.keras/datasets/flower_photos/sunflowers/4895721788_f10208ab77_n.jpg'),\n",
              " PosixPath('/root/.keras/datasets/flower_photos/sunflowers/9375675309_987d32f99e_n.jpg'),\n",
              " PosixPath('/root/.keras/datasets/flower_photos/sunflowers/145303599_2627e23815_n.jpg'),\n",
              " PosixPath('/root/.keras/datasets/flower_photos/sunflowers/15054864508_0334b892be_m.jpg'),\n",
              " PosixPath('/root/.keras/datasets/flower_photos/sunflowers/9511172241_8aee411e2e.jpg'),\n",
              " PosixPath('/root/.keras/datasets/flower_photos/sunflowers/5966729883_67f4fede93.jpg'),\n",
              " PosixPath('/root/.keras/datasets/flower_photos/sunflowers/4877195645_791c3a83b9_m.jpg'),\n",
              " PosixPath('/root/.keras/datasets/flower_photos/sunflowers/3858508462_db2b9692d1.jpg'),\n",
              " PosixPath('/root/.keras/datasets/flower_photos/sunflowers/193874852_fb633d8d00_n.jpg'),\n",
              " PosixPath('/root/.keras/datasets/flower_photos/sunflowers/19710925313_31682fa22b_m.jpg'),\n",
              " PosixPath('/root/.keras/datasets/flower_photos/sunflowers/5357144886_b78f4782eb.jpg'),\n",
              " PosixPath('/root/.keras/datasets/flower_photos/sunflowers/5979111199_495884b578_n.jpg'),\n",
              " PosixPath('/root/.keras/datasets/flower_photos/sunflowers/4745985619_249078cafa_n.jpg'),\n",
              " PosixPath('/root/.keras/datasets/flower_photos/sunflowers/7857605684_fc86440c23.jpg'),\n",
              " PosixPath('/root/.keras/datasets/flower_photos/sunflowers/8174935717_d19367d502.jpg'),\n",
              " PosixPath('/root/.keras/datasets/flower_photos/sunflowers/5339004958_a0a6f385fd_m.jpg'),\n",
              " PosixPath('/root/.keras/datasets/flower_photos/sunflowers/3912497870_a2f91c3a65_n.jpg'),\n",
              " PosixPath('/root/.keras/datasets/flower_photos/sunflowers/3951246342_930138610b_n.jpg'),\n",
              " PosixPath('/root/.keras/datasets/flower_photos/sunflowers/4890268276_563f40a193.jpg'),\n",
              " PosixPath('/root/.keras/datasets/flower_photos/sunflowers/3798841385_38142ea3c6_n.jpg'),\n",
              " PosixPath('/root/.keras/datasets/flower_photos/sunflowers/4821232343_7e0bcfbfdf_n.jpg'),\n",
              " PosixPath('/root/.keras/datasets/flower_photos/sunflowers/12471443383_b71e7a7480_m.jpg'),\n",
              " PosixPath('/root/.keras/datasets/flower_photos/sunflowers/2807106374_f422b5f00c.jpg'),\n",
              " PosixPath('/root/.keras/datasets/flower_photos/sunflowers/4019748730_ee09b39a43.jpg'),\n",
              " PosixPath('/root/.keras/datasets/flower_photos/sunflowers/2767688889_b176b0c3fb.jpg'),\n",
              " PosixPath('/root/.keras/datasets/flower_photos/sunflowers/9497774935_a7daec5433_n.jpg'),\n",
              " PosixPath('/root/.keras/datasets/flower_photos/sunflowers/9484354480_07ff2ef0a6.jpg'),\n",
              " PosixPath('/root/.keras/datasets/flower_photos/sunflowers/1484598527_579a272f53.jpg'),\n",
              " PosixPath('/root/.keras/datasets/flower_photos/sunflowers/2895404754_6d9f9416d7_n.jpg'),\n",
              " PosixPath('/root/.keras/datasets/flower_photos/sunflowers/15054751430_5af76f6096_n.jpg'),\n",
              " PosixPath('/root/.keras/datasets/flower_photos/sunflowers/19508264965_d1dfb565ea_n.jpg'),\n",
              " PosixPath('/root/.keras/datasets/flower_photos/sunflowers/235651658_a7b3e7cbdd.jpg'),\n",
              " PosixPath('/root/.keras/datasets/flower_photos/sunflowers/678714585_addc9aaaef.jpg'),\n",
              " PosixPath('/root/.keras/datasets/flower_photos/sunflowers/9381481549_5a5d503e42_n.jpg'),\n",
              " PosixPath('/root/.keras/datasets/flower_photos/sunflowers/8705462313_4458d64cd4.jpg'),\n",
              " PosixPath('/root/.keras/datasets/flower_photos/sunflowers/2979133707_84aab35b5d.jpg'),\n",
              " PosixPath('/root/.keras/datasets/flower_photos/sunflowers/8265023280_713f2c69d0_m.jpg'),\n",
              " PosixPath('/root/.keras/datasets/flower_photos/sunflowers/4872892690_52dc25b0b4.jpg'),\n",
              " PosixPath('/root/.keras/datasets/flower_photos/sunflowers/6140892289_92805cc590.jpg'),\n",
              " PosixPath('/root/.keras/datasets/flower_photos/sunflowers/201809908_0ef84bb351.jpg'),\n",
              " PosixPath('/root/.keras/datasets/flower_photos/sunflowers/5231868667_f0baa71feb_n.jpg'),\n",
              " PosixPath('/root/.keras/datasets/flower_photos/sunflowers/2996573407_5e473b9359.jpg'),\n",
              " PosixPath('/root/.keras/datasets/flower_photos/sunflowers/24459548_27a783feda.jpg'),\n",
              " PosixPath('/root/.keras/datasets/flower_photos/sunflowers/417251603_69f0ee57a9_m.jpg'),\n",
              " PosixPath('/root/.keras/datasets/flower_photos/sunflowers/3001531316_efae24d37d_n.jpg'),\n",
              " PosixPath('/root/.keras/datasets/flower_photos/sunflowers/193878348_43571127b9_n.jpg'),\n",
              " PosixPath('/root/.keras/datasets/flower_photos/sunflowers/23247483352_0defc7a6dc_n.jpg'),\n",
              " PosixPath('/root/.keras/datasets/flower_photos/sunflowers/15118397087_bfb7ea70d5_n.jpg'),\n",
              " PosixPath('/root/.keras/datasets/flower_photos/sunflowers/6866250080_ae80df0cd5_m.jpg'),\n",
              " PosixPath('/root/.keras/datasets/flower_photos/sunflowers/4869189730_f47c124cda_n.jpg'),\n",
              " PosixPath('/root/.keras/datasets/flower_photos/sunflowers/16143151468_4f3c033e33.jpg'),\n",
              " PosixPath('/root/.keras/datasets/flower_photos/sunflowers/5896354497_6a19162741.jpg'),\n",
              " PosixPath('/root/.keras/datasets/flower_photos/sunflowers/7820626738_3be6a52e4e_n.jpg'),\n",
              " PosixPath('/root/.keras/datasets/flower_photos/sunflowers/2816256710_a2d3616fae.jpg'),\n",
              " PosixPath('/root/.keras/datasets/flower_photos/sunflowers/14814264272_4b39a102f9_n.jpg'),\n",
              " PosixPath('/root/.keras/datasets/flower_photos/sunflowers/3749091071_c146b33c74_n.jpg'),\n",
              " PosixPath('/root/.keras/datasets/flower_photos/sunflowers/15472217046_2699b25584.jpg'),\n",
              " PosixPath('/root/.keras/datasets/flower_photos/sunflowers/184682320_73ccf74710.jpg'),\n",
              " PosixPath('/root/.keras/datasets/flower_photos/sunflowers/9410186154_465642ed35.jpg'),\n",
              " PosixPath('/root/.keras/datasets/flower_photos/sunflowers/287233531_74d4605814_m.jpg'),\n",
              " PosixPath('/root/.keras/datasets/flower_photos/sunflowers/14144522269_bc20029375_m.jpg'),\n",
              " PosixPath('/root/.keras/datasets/flower_photos/sunflowers/9231555352_d2dd8f8e68_m.jpg'),\n",
              " PosixPath('/root/.keras/datasets/flower_photos/sunflowers/5970300143_36b42437de_n.jpg'),\n",
              " PosixPath('/root/.keras/datasets/flower_photos/sunflowers/9555824387_32b151e9b0_m.jpg'),\n",
              " PosixPath('/root/.keras/datasets/flower_photos/sunflowers/184683023_737fec5b18.jpg'),\n",
              " PosixPath('/root/.keras/datasets/flower_photos/sunflowers/10386702973_e74a34c806_n.jpg'),\n",
              " PosixPath('/root/.keras/datasets/flower_photos/sunflowers/6116210027_61923f4b64.jpg'),\n",
              " PosixPath('/root/.keras/datasets/flower_photos/sunflowers/22203670478_9ec5c2700b_n.jpg'),\n",
              " PosixPath('/root/.keras/datasets/flower_photos/sunflowers/16967372357_15b1b9a812_n.jpg'),\n",
              " PosixPath('/root/.keras/datasets/flower_photos/sunflowers/15054866658_c1a6223403_m.jpg'),\n",
              " PosixPath('/root/.keras/datasets/flower_photos/sunflowers/274848710_5185cf33b1_n.jpg'),\n",
              " PosixPath('/root/.keras/datasets/flower_photos/sunflowers/2067882323_8de6623ffd.jpg'),\n",
              " PosixPath('/root/.keras/datasets/flower_photos/sunflowers/5139969871_c9046bdaa7_n.jpg'),\n",
              " PosixPath('/root/.keras/datasets/flower_photos/sunflowers/6133988570_9dc778e622_m.jpg'),\n",
              " PosixPath('/root/.keras/datasets/flower_photos/sunflowers/20406385204_469f6749e2_n.jpg'),\n",
              " PosixPath('/root/.keras/datasets/flower_photos/sunflowers/15380755137_a2e67839ab_m.jpg'),\n",
              " PosixPath('/root/.keras/datasets/flower_photos/sunflowers/9485002920_59af6f4cac.jpg'),\n",
              " PosixPath('/root/.keras/datasets/flower_photos/sunflowers/15495579081_661cb260d1_n.jpg'),\n",
              " PosixPath('/root/.keras/datasets/flower_photos/sunflowers/4895122831_83db2ba2d0_n.jpg'),\n",
              " PosixPath('/root/.keras/datasets/flower_photos/sunflowers/10386522775_4f8c616999_m.jpg'),\n",
              " PosixPath('/root/.keras/datasets/flower_photos/sunflowers/5957007921_62333981d2_n.jpg'),\n",
              " PosixPath('/root/.keras/datasets/flower_photos/sunflowers/6606749757_b98a4ba403.jpg'),\n",
              " PosixPath('/root/.keras/datasets/flower_photos/sunflowers/274846229_990e976683_n.jpg'),\n",
              " PosixPath('/root/.keras/datasets/flower_photos/sunflowers/14925398301_55a180f919_n.jpg'),\n",
              " PosixPath('/root/.keras/datasets/flower_photos/sunflowers/4933229357_1c5cc03f65_m.jpg'),\n",
              " PosixPath('/root/.keras/datasets/flower_photos/sunflowers/19349582128_68a662075e_n.jpg'),\n",
              " PosixPath('/root/.keras/datasets/flower_photos/sunflowers/6606806621_5267acdd38.jpg'),\n",
              " PosixPath('/root/.keras/datasets/flower_photos/sunflowers/4895718876_0246882882_n.jpg'),\n",
              " PosixPath('/root/.keras/datasets/flower_photos/sunflowers/418056361_1dfac1c151_n.jpg'),\n",
              " PosixPath('/root/.keras/datasets/flower_photos/sunflowers/14925397651_97dcddc383_n.jpg'),\n",
              " PosixPath('/root/.keras/datasets/flower_photos/sunflowers/4872284527_ff52128b97.jpg'),\n",
              " PosixPath('/root/.keras/datasets/flower_photos/sunflowers/5043404000_9bc16cb7e5_m.jpg'),\n",
              " PosixPath('/root/.keras/datasets/flower_photos/sunflowers/9216286876_289a4779f7.jpg'),\n",
              " PosixPath('/root/.keras/datasets/flower_photos/sunflowers/18766965343_9f42d4bedc_m.jpg'),\n",
              " PosixPath('/root/.keras/datasets/flower_photos/sunflowers/6074427492_1b5bab7848_n.jpg'),\n",
              " PosixPath('/root/.keras/datasets/flower_photos/sunflowers/4847062576_bae870479c_n.jpg'),\n",
              " PosixPath('/root/.keras/datasets/flower_photos/sunflowers/2927020075_54c9186797_n.jpg'),\n",
              " PosixPath('/root/.keras/datasets/flower_photos/sunflowers/8038712786_5bdeed3c7f_m.jpg'),\n",
              " PosixPath('/root/.keras/datasets/flower_photos/sunflowers/9651392844_77f90589ba_n.jpg'),\n",
              " PosixPath('/root/.keras/datasets/flower_photos/sunflowers/3865206264_5d81584bba.jpg'),\n",
              " PosixPath('/root/.keras/datasets/flower_photos/sunflowers/9825716455_f12bcc8d4e_n.jpg'),\n",
              " PosixPath('/root/.keras/datasets/flower_photos/sunflowers/8480886751_71d88bfdc0_n.jpg'),\n",
              " PosixPath('/root/.keras/datasets/flower_photos/sunflowers/1267876087_a1b3c63dc9.jpg'),\n",
              " PosixPath('/root/.keras/datasets/flower_photos/sunflowers/265450085_6e9f276e2e.jpg'),\n",
              " PosixPath('/root/.keras/datasets/flower_photos/sunflowers/8929274876_17efc1774a_n.jpg'),\n",
              " PosixPath('/root/.keras/datasets/flower_photos/sunflowers/14472246629_72373111e6_m.jpg'),\n",
              " PosixPath('/root/.keras/datasets/flower_photos/sunflowers/857698097_8068a2c135_n.jpg'),\n",
              " PosixPath('/root/.keras/datasets/flower_photos/sunflowers/20871601265_daa4be4291_n.jpg'),\n",
              " PosixPath('/root/.keras/datasets/flower_photos/sunflowers/21349789961_18ba1af5b7_n.jpg'),\n",
              " PosixPath('/root/.keras/datasets/flower_photos/sunflowers/21374127408_5ffbe87bb2.jpg'),\n",
              " PosixPath('/root/.keras/datasets/flower_photos/sunflowers/2883115621_4837267ea1_m.jpg'),\n",
              " PosixPath('/root/.keras/datasets/flower_photos/sunflowers/6166888942_7058198713_m.jpg'),\n",
              " PosixPath('/root/.keras/datasets/flower_photos/sunflowers/14698136411_23bdcff7bf_n.jpg'),\n",
              " PosixPath('/root/.keras/datasets/flower_photos/sunflowers/9904127656_f76a5a4811_m.jpg'),\n",
              " PosixPath('/root/.keras/datasets/flower_photos/sunflowers/127192624_afa3d9cb84.jpg'),\n",
              " PosixPath('/root/.keras/datasets/flower_photos/sunflowers/15054752730_fcf54d475e_m.jpg'),\n",
              " PosixPath('/root/.keras/datasets/flower_photos/sunflowers/21728822928_9f6817325a_n.jpg'),\n",
              " PosixPath('/root/.keras/datasets/flower_photos/sunflowers/164668737_aeab0cb55e_n.jpg'),\n",
              " PosixPath('/root/.keras/datasets/flower_photos/sunflowers/9240005603_6a9b71dcea_n.jpg'),\n",
              " PosixPath('/root/.keras/datasets/flower_photos/sunflowers/215798352_184d8040d1.jpg'),\n",
              " PosixPath('/root/.keras/datasets/flower_photos/sunflowers/8368015811_2893411cf7_n.jpg'),\n",
              " PosixPath('/root/.keras/datasets/flower_photos/sunflowers/15122871130_6a7d0b4372_n.jpg'),\n",
              " PosixPath('/root/.keras/datasets/flower_photos/sunflowers/5020805135_1219d7523d.jpg'),\n",
              " PosixPath('/root/.keras/datasets/flower_photos/sunflowers/15081164641_45a7b92b3a_m.jpg'),\n",
              " PosixPath('/root/.keras/datasets/flower_photos/sunflowers/9240129413_f240ce7866_n.jpg'),\n",
              " PosixPath('/root/.keras/datasets/flower_photos/sunflowers/4980406384_791774d953.jpg'),\n",
              " PosixPath('/root/.keras/datasets/flower_photos/sunflowers/7581713708_8eae6794f2.jpg'),\n",
              " PosixPath('/root/.keras/datasets/flower_photos/sunflowers/18250039435_7654bc11be_n.jpg'),\n",
              " PosixPath('/root/.keras/datasets/flower_photos/sunflowers/4831577091_f56157a5d5_n.jpg'),\n",
              " PosixPath('/root/.keras/datasets/flower_photos/sunflowers/6042014768_b57f0bfc79_n.jpg'),\n",
              " PosixPath('/root/.keras/datasets/flower_photos/sunflowers/3784815653_5df39aa9c2_m.jpg'),\n",
              " PosixPath('/root/.keras/datasets/flower_photos/sunflowers/3848405800_8eea982c40.jpg'),\n",
              " PosixPath('/root/.keras/datasets/flower_photos/sunflowers/17433282043_441b0a07f4_n.jpg'),\n",
              " PosixPath('/root/.keras/datasets/flower_photos/sunflowers/10386540106_1431e73086_m.jpg'),\n",
              " PosixPath('/root/.keras/datasets/flower_photos/sunflowers/20481273479_d459834a3e_n.jpg'),\n",
              " PosixPath('/root/.keras/datasets/flower_photos/sunflowers/20777358950_c63ea569a1.jpg'),\n",
              " PosixPath('/root/.keras/datasets/flower_photos/sunflowers/5139969631_743880e01d_n.jpg'),\n",
              " PosixPath('/root/.keras/datasets/flower_photos/sunflowers/15123604714_dd034a4a3b_n.jpg'),\n",
              " PosixPath('/root/.keras/datasets/flower_photos/sunflowers/6606817351_10f6e43a09.jpg'),\n",
              " PosixPath('/root/.keras/datasets/flower_photos/sunflowers/8071460469_a7c2c34b97_n.jpg'),\n",
              " PosixPath('/root/.keras/datasets/flower_photos/sunflowers/2944298800_1984bd4f8a_m.jpg'),\n",
              " PosixPath('/root/.keras/datasets/flower_photos/sunflowers/15218871222_c104032ca1.jpg'),\n",
              " PosixPath('/root/.keras/datasets/flower_photos/sunflowers/14889392928_9742aed45b_m.jpg'),\n",
              " PosixPath('/root/.keras/datasets/flower_photos/sunflowers/3894586562_5dbbdc4354_n.jpg'),\n",
              " PosixPath('/root/.keras/datasets/flower_photos/sunflowers/9610373748_b9cb67bd55.jpg'),\n",
              " PosixPath('/root/.keras/datasets/flower_photos/sunflowers/6053739964_a1d9ab3ed1_n.jpg'),\n",
              " PosixPath('/root/.keras/datasets/flower_photos/sunflowers/3154932290_4bf43bd34f_n.jpg'),\n",
              " PosixPath('/root/.keras/datasets/flower_photos/sunflowers/5043409856_395300dbe5_m.jpg'),\n",
              " PosixPath('/root/.keras/datasets/flower_photos/sunflowers/15108515192_f686dce398_n.jpg'),\n",
              " PosixPath('/root/.keras/datasets/flower_photos/sunflowers/3568114325_d6b1363497.jpg'),\n",
              " PosixPath('/root/.keras/datasets/flower_photos/sunflowers/20965412955_2c640b13bd.jpg'),\n",
              " PosixPath('/root/.keras/datasets/flower_photos/sunflowers/9431890901_cd11bda584_n.jpg'),\n",
              " PosixPath('/root/.keras/datasets/flower_photos/sunflowers/1022552036_67d33d5bd8_n.jpg'),\n",
              " PosixPath('/root/.keras/datasets/flower_photos/sunflowers/9558627290_353a14ba0b_m.jpg'),\n",
              " PosixPath('/root/.keras/datasets/flower_photos/sunflowers/4746643626_02b2d056a2_n.jpg'),\n",
              " PosixPath('/root/.keras/datasets/flower_photos/sunflowers/4933229561_881d4673e7_m.jpg'),\n",
              " PosixPath('/root/.keras/datasets/flower_photos/sunflowers/15030133005_9728102622_z.jpg'),\n",
              " PosixPath('/root/.keras/datasets/flower_photos/sunflowers/877083343_e3338c4125.jpg'),\n",
              " PosixPath('/root/.keras/datasets/flower_photos/sunflowers/6606743797_c90c669757.jpg'),\n",
              " PosixPath('/root/.keras/datasets/flower_photos/sunflowers/14646280372_dd50be16e4_n.jpg'),\n",
              " PosixPath('/root/.keras/datasets/flower_photos/sunflowers/13648603305_1268eda8b7_n.jpg'),\n",
              " PosixPath('/root/.keras/datasets/flower_photos/sunflowers/2721638730_34a9b7a78b.jpg'),\n",
              " PosixPath('/root/.keras/datasets/flower_photos/sunflowers/3594967811_697184b026_n.jpg'),\n",
              " PosixPath('/root/.keras/datasets/flower_photos/sunflowers/19519101829_46af0b4547_m.jpg'),\n",
              " PosixPath('/root/.keras/datasets/flower_photos/sunflowers/5139977283_530c508603_n.jpg'),\n",
              " PosixPath('/root/.keras/datasets/flower_photos/sunflowers/15026703621_e15e9d55f0_n.jpg'),\n",
              " PosixPath('/root/.keras/datasets/flower_photos/sunflowers/27466794_57e4fe5656.jpg'),\n",
              " PosixPath('/root/.keras/datasets/flower_photos/sunflowers/821368661_4ab4343f5a.jpg'),\n",
              " PosixPath('/root/.keras/datasets/flower_photos/sunflowers/4933824012_8cbfe606f6.jpg'),\n",
              " PosixPath('/root/.keras/datasets/flower_photos/sunflowers/5076821914_c21b58fd4c_m.jpg'),\n",
              " PosixPath('/root/.keras/datasets/flower_photos/sunflowers/9558632814_e78a780f4f.jpg'),\n",
              " PosixPath('/root/.keras/datasets/flower_photos/sunflowers/4528959364_fa544b0f4e_m.jpg'),\n",
              " PosixPath('/root/.keras/datasets/flower_photos/sunflowers/9655029591_7a77f87500.jpg'),\n",
              " PosixPath('/root/.keras/datasets/flower_photos/sunflowers/2816503473_580306e772.jpg'),\n",
              " PosixPath('/root/.keras/datasets/flower_photos/sunflowers/6606823367_e89dc52a95_n.jpg'),\n",
              " PosixPath('/root/.keras/datasets/flower_photos/sunflowers/9535500195_543d0b729b.jpg'),\n",
              " PosixPath('/root/.keras/datasets/flower_photos/sunflowers/20407896403_a50fef58ac_n.jpg'),\n",
              " PosixPath('/root/.keras/datasets/flower_photos/sunflowers/4933230395_7930697335_m.jpg'),\n",
              " PosixPath('/root/.keras/datasets/flower_photos/sunflowers/7510240282_87554c7418_n.jpg'),\n",
              " PosixPath('/root/.keras/datasets/flower_photos/sunflowers/9460336948_6ae968be93.jpg'),\n",
              " PosixPath('/root/.keras/datasets/flower_photos/sunflowers/6112510436_9fe06e695a_n.jpg'),\n",
              " PosixPath('/root/.keras/datasets/flower_photos/sunflowers/4042816698_578a1d599e.jpg'),\n",
              " PosixPath('/root/.keras/datasets/flower_photos/sunflowers/4664767140_fe01231322_n.jpg'),\n",
              " PosixPath('/root/.keras/datasets/flower_photos/sunflowers/11881770944_22b4f2f8f6_n.jpg'),\n",
              " PosixPath('/root/.keras/datasets/flower_photos/sunflowers/9681915384_b3b646dc92_m.jpg'),\n",
              " PosixPath('/root/.keras/datasets/flower_photos/sunflowers/20704967595_a9c9b8d431.jpg'),\n",
              " PosixPath('/root/.keras/datasets/flower_photos/sunflowers/4933230991_d50c0f7c66.jpg'),\n",
              " PosixPath('/root/.keras/datasets/flower_photos/sunflowers/12471791574_bb1be83df4.jpg'),\n",
              " PosixPath('/root/.keras/datasets/flower_photos/sunflowers/6606809995_edee55b770_m.jpg'),\n",
              " PosixPath('/root/.keras/datasets/flower_photos/sunflowers/2598973480_07de93e91d_n.jpg'),\n",
              " PosixPath('/root/.keras/datasets/flower_photos/sunflowers/9339697826_88c9c4dc50.jpg'),\n",
              " PosixPath('/root/.keras/datasets/flower_photos/sunflowers/5998488415_a6bacd9f83.jpg'),\n",
              " PosixPath('/root/.keras/datasets/flower_photos/sunflowers/2733109082_1351f6738a_n.jpg'),\n",
              " PosixPath('/root/.keras/datasets/flower_photos/sunflowers/9431896325_23bf6e8761.jpg'),\n",
              " PosixPath('/root/.keras/datasets/flower_photos/sunflowers/20156280765_a6baea3176.jpg'),\n",
              " PosixPath('/root/.keras/datasets/flower_photos/sunflowers/15118243470_7e0a7f159c_n.jpg'),\n",
              " PosixPath('/root/.keras/datasets/flower_photos/sunflowers/2588453601_66f2a03cca_n.jpg'),\n",
              " PosixPath('/root/.keras/datasets/flower_photos/sunflowers/15493195788_60530f2398_m.jpg'),\n",
              " PosixPath('/root/.keras/datasets/flower_photos/sunflowers/4414084638_03d2db38ae.jpg'),\n",
              " PosixPath('/root/.keras/datasets/flower_photos/sunflowers/4414081772_8a0e8a1327.jpg'),\n",
              " PosixPath('/root/.keras/datasets/flower_photos/sunflowers/20148493928_9f75a99783.jpg'),\n",
              " PosixPath('/root/.keras/datasets/flower_photos/sunflowers/2823659190_afdabee45c.jpg'),\n",
              " PosixPath('/root/.keras/datasets/flower_photos/sunflowers/3897174387_07aac6bf5f_n.jpg'),\n",
              " PosixPath('/root/.keras/datasets/flower_photos/sunflowers/45045005_57354ee844.jpg'),\n",
              " PosixPath('/root/.keras/datasets/flower_photos/sunflowers/2619000556_6634478e64_n.jpg'),\n",
              " PosixPath('/root/.keras/datasets/flower_photos/sunflowers/20183071136_c297e74fcc_m.jpg'),\n",
              " PosixPath('/root/.keras/datasets/flower_photos/sunflowers/4933229479_c1708bd503.jpg'),\n",
              " PosixPath('/root/.keras/datasets/flower_photos/sunflowers/14244273988_a7484f18b7_m.jpg'),\n",
              " PosixPath('/root/.keras/datasets/flower_photos/sunflowers/8202034834_ee0ee91e04_n.jpg'),\n",
              " PosixPath('/root/.keras/datasets/flower_photos/sunflowers/9699724719_a8439cc0fd_n.jpg'),\n",
              " PosixPath('/root/.keras/datasets/flower_photos/sunflowers/4868595281_1e58083785.jpg'),\n",
              " PosixPath('/root/.keras/datasets/flower_photos/sunflowers/9558630626_52a1b7d702_m.jpg'),\n",
              " PosixPath('/root/.keras/datasets/flower_photos/sunflowers/1043442695_4556c4c13d_n.jpg'),\n",
              " PosixPath('/root/.keras/datasets/flower_photos/sunflowers/14901528533_ac1ce09063.jpg'),\n",
              " PosixPath('/root/.keras/datasets/flower_photos/sunflowers/4755075329_1fccc69d4e.jpg'),\n",
              " PosixPath('/root/.keras/datasets/flower_photos/sunflowers/9461693602_710f20904f.jpg'),\n",
              " PosixPath('/root/.keras/datasets/flower_photos/sunflowers/4933823194_33f6e32c5a.jpg'),\n",
              " PosixPath('/root/.keras/datasets/flower_photos/sunflowers/3734999477_7f454081aa_n.jpg'),\n",
              " PosixPath('/root/.keras/datasets/flower_photos/sunflowers/5951665793_8ae4807cbd_n.jpg'),\n",
              " PosixPath('/root/.keras/datasets/flower_photos/sunflowers/15054866898_60ee50ec6b_n.jpg'),\n",
              " PosixPath('/root/.keras/datasets/flower_photos/sunflowers/4805544785_a63241f6d0_n.jpg'),\n",
              " PosixPath('/root/.keras/datasets/flower_photos/sunflowers/1596293240_2d5b53495a_m.jpg'),\n",
              " PosixPath('/root/.keras/datasets/flower_photos/sunflowers/8041242566_752def876e_n.jpg'),\n",
              " PosixPath('/root/.keras/datasets/flower_photos/sunflowers/6606753075_72ee32aa30_m.jpg'),\n",
              " PosixPath('/root/.keras/datasets/flower_photos/sunflowers/151898652_b5f1c70b98_n.jpg'),\n",
              " PosixPath('/root/.keras/datasets/flower_photos/sunflowers/15043962658_dcf9dff5e9_n.jpg'),\n",
              " PosixPath('/root/.keras/datasets/flower_photos/sunflowers/23204123212_ef32fbafbe.jpg'),\n",
              " PosixPath('/root/.keras/datasets/flower_photos/sunflowers/7510285306_ba8f80c382_n.jpg'),\n",
              " PosixPath('/root/.keras/datasets/flower_photos/sunflowers/2803725948_5fd1f2fc99_n.jpg'),\n",
              " PosixPath('/root/.keras/datasets/flower_photos/sunflowers/4489516263_e49fe82637_n.jpg'),\n",
              " PosixPath('/root/.keras/datasets/flower_photos/sunflowers/7728953426_abd179ab63.jpg'),\n",
              " PosixPath('/root/.keras/datasets/flower_photos/sunflowers/20344366953_44fb51051b.jpg'),\n",
              " PosixPath('/root/.keras/datasets/flower_photos/sunflowers/27465811_9477c9d044.jpg'),\n",
              " PosixPath('/root/.keras/datasets/flower_photos/sunflowers/5994569021_749d5e2da3_n.jpg'),\n",
              " PosixPath('/root/.keras/datasets/flower_photos/sunflowers/40410814_fba3837226_n.jpg'),\n",
              " PosixPath('/root/.keras/datasets/flower_photos/sunflowers/5042785753_392cc4e74d_n.jpg'),\n",
              " PosixPath('/root/.keras/datasets/flower_photos/sunflowers/15460162172_014bcce403.jpg'),\n",
              " PosixPath('/root/.keras/datasets/flower_photos/sunflowers/22255608949_172d7c8d22_m.jpg'),\n",
              " PosixPath('/root/.keras/datasets/flower_photos/sunflowers/20905163782_312e2c3bda_n.jpg'),\n",
              " PosixPath('/root/.keras/datasets/flower_photos/sunflowers/4813483281_f3707a71e7_n.jpg'),\n",
              " PosixPath('/root/.keras/datasets/flower_photos/sunflowers/1314584013_fe935fdeb1_n.jpg'),\n",
              " PosixPath('/root/.keras/datasets/flower_photos/sunflowers/3665455426_9cd1c3af4a_n.jpg'),\n",
              " PosixPath('/root/.keras/datasets/flower_photos/sunflowers/58636535_bc53ef0a21_m.jpg'),\n",
              " PosixPath('/root/.keras/datasets/flower_photos/sunflowers/4235259239_21f2eb4f2e.jpg'),\n",
              " PosixPath('/root/.keras/datasets/flower_photos/sunflowers/20022771089_3cc7e5086d_m.jpg'),\n",
              " PosixPath('/root/.keras/datasets/flower_photos/sunflowers/14244410747_22691ece4a_n.jpg'),\n",
              " PosixPath('/root/.keras/datasets/flower_photos/sunflowers/9399711558_7cb9547cd3_n.jpg'),\n",
              " PosixPath('/root/.keras/datasets/flower_photos/sunflowers/19915160340_ec904edbdf_n.jpg'),\n",
              " PosixPath('/root/.keras/datasets/flower_photos/sunflowers/5139977423_d413b23fde_m.jpg'),\n",
              " PosixPath('/root/.keras/datasets/flower_photos/sunflowers/9206376642_8348ba5c7a.jpg'),\n",
              " PosixPath('/root/.keras/datasets/flower_photos/sunflowers/2575272111_f04d79b9af_n.jpg'),\n",
              " PosixPath('/root/.keras/datasets/flower_photos/sunflowers/22992257000_76dbc599e7_m.jpg'),\n",
              " PosixPath('/root/.keras/datasets/flower_photos/sunflowers/9246304620_768d1f54d7_n.jpg'),\n",
              " PosixPath('/root/.keras/datasets/flower_photos/sunflowers/3846717708_ea11383ed8.jpg'),\n",
              " PosixPath('/root/.keras/datasets/flower_photos/sunflowers/14646279002_9cdf97be97_n.jpg'),\n",
              " PosixPath('/root/.keras/datasets/flower_photos/sunflowers/6265084065_7a8b30cc6e_n.jpg'),\n",
              " PosixPath('/root/.keras/datasets/flower_photos/sunflowers/35477171_13cb52115c_n.jpg'),\n",
              " PosixPath('/root/.keras/datasets/flower_photos/sunflowers/21984860006_20dfacea1c_m.jpg'),\n",
              " PosixPath('/root/.keras/datasets/flower_photos/sunflowers/9783416751_b2a03920f7_n.jpg'),\n",
              " PosixPath('/root/.keras/datasets/flower_photos/sunflowers/3749090865_b90f28a585_n.jpg'),\n",
              " PosixPath('/root/.keras/datasets/flower_photos/sunflowers/15238348741_c2fb12ecf2_m.jpg'),\n",
              " PosixPath('/root/.keras/datasets/flower_photos/sunflowers/2443921986_d4582c123a.jpg'),\n",
              " PosixPath('/root/.keras/datasets/flower_photos/sunflowers/9610371852_179e7781ce.jpg'),\n",
              " PosixPath('/root/.keras/datasets/flower_photos/sunflowers/9482209981_bf7bf6022b_m.jpg'),\n",
              " PosixPath('/root/.keras/datasets/flower_photos/sunflowers/6606815161_3c4372760f.jpg'),\n",
              " PosixPath('/root/.keras/datasets/flower_photos/sunflowers/4927658421_7eed83bc95_m.jpg'),\n",
              " PosixPath('/root/.keras/datasets/flower_photos/sunflowers/310380634_60e6c79989.jpg'),\n",
              " PosixPath('/root/.keras/datasets/flower_photos/sunflowers/9432335346_e298e47713_n.jpg'),\n",
              " PosixPath('/root/.keras/datasets/flower_photos/sunflowers/6141199476_9b6d383fd9.jpg'),\n",
              " PosixPath('/root/.keras/datasets/flower_photos/sunflowers/4626721387_88f89d5cc9_n.jpg'),\n",
              " PosixPath('/root/.keras/datasets/flower_photos/sunflowers/2689228449_e0be72cf00_n.jpg'),\n",
              " PosixPath('/root/.keras/datasets/flower_photos/sunflowers/9497774249_7f5ae70927_m.jpg'),\n",
              " PosixPath('/root/.keras/datasets/flower_photos/sunflowers/5927432662_3ffd2461c2_n.jpg'),\n",
              " PosixPath('/root/.keras/datasets/flower_photos/sunflowers/19359539074_d7e32e6616_n.jpg'),\n",
              " PosixPath('/root/.keras/datasets/flower_photos/sunflowers/15218421476_9d5f38e732_m.jpg'),\n",
              " PosixPath('/root/.keras/datasets/flower_photos/sunflowers/19504937128_a4ae90fcbd_m.jpg'),\n",
              " PosixPath('/root/.keras/datasets/flower_photos/sunflowers/14921668662_3ffc5b9db3_n.jpg'),\n",
              " PosixPath('/root/.keras/datasets/flower_photos/sunflowers/184682920_97ae41ce60_m.jpg'),\n",
              " PosixPath('/root/.keras/datasets/flower_photos/sunflowers/12282924083_fb80aa17d4_n.jpg'),\n",
              " PosixPath('/root/.keras/datasets/flower_photos/sunflowers/2678588376_6ca64a4a54_n.jpg'),\n",
              " PosixPath('/root/.keras/datasets/flower_photos/sunflowers/3846907701_e13b66aa87.jpg'),\n",
              " PosixPath('/root/.keras/datasets/flower_photos/sunflowers/22183529245_ce13557515_m.jpg'),\n",
              " PosixPath('/root/.keras/datasets/flower_photos/sunflowers/2883115609_5a69357b5d_m.jpg'),\n",
              " PosixPath('/root/.keras/datasets/flower_photos/sunflowers/15072973261_73e2912ef2_n.jpg'),\n",
              " PosixPath('/root/.keras/datasets/flower_photos/sunflowers/9427945592_07a2676945_n.jpg'),\n",
              " PosixPath('/root/.keras/datasets/flower_photos/sunflowers/864957037_c75373d1c5.jpg'),\n",
              " PosixPath('/root/.keras/datasets/flower_photos/sunflowers/9599534035_ae4df582b6.jpg'),\n",
              " PosixPath('/root/.keras/datasets/flower_photos/sunflowers/21995435890_e5672244a4_m.jpg'),\n",
              " PosixPath('/root/.keras/datasets/flower_photos/sunflowers/4933822052_2dfef02517.jpg'),\n",
              " PosixPath('/root/.keras/datasets/flower_photos/sunflowers/4914793782_d0ea760791.jpg'),\n",
              " PosixPath('/root/.keras/datasets/flower_photos/sunflowers/14925397761_46ecfa24e0.jpg'),\n",
              " PosixPath('/root/.keras/datasets/flower_photos/sunflowers/3766264038_ea701c7131_n.jpg'),\n",
              " PosixPath('/root/.keras/datasets/flower_photos/sunflowers/14266917699_91b207888e.jpg'),\n",
              " PosixPath('/root/.keras/datasets/flower_photos/sunflowers/10386540696_0a95ee53a8_n.jpg'),\n",
              " PosixPath('/root/.keras/datasets/flower_photos/sunflowers/6141150299_b46a64e4de.jpg'),\n",
              " PosixPath('/root/.keras/datasets/flower_photos/sunflowers/4933230247_a0432f01da.jpg'),\n",
              " PosixPath('/root/.keras/datasets/flower_photos/sunflowers/15054865768_2cc87ac9d4_m.jpg'),\n",
              " PosixPath('/root/.keras/datasets/flower_photos/sunflowers/4804434999_bf2187e96a_n.jpg'),\n",
              " PosixPath('/root/.keras/datasets/flower_photos/sunflowers/7804213238_1d92ae5edb_m.jpg'),\n",
              " PosixPath('/root/.keras/datasets/flower_photos/sunflowers/5923085671_f81dd1cf6f.jpg'),\n",
              " PosixPath('/root/.keras/datasets/flower_photos/sunflowers/5015462205_440898fe41_n.jpg'),\n",
              " PosixPath('/root/.keras/datasets/flower_photos/sunflowers/18828283553_e46504ae38.jpg'),\n",
              " PosixPath('/root/.keras/datasets/flower_photos/sunflowers/14646283472_50a3ae1395.jpg'),\n",
              " PosixPath('/root/.keras/datasets/flower_photos/sunflowers/4932735362_6e1017140f.jpg'),\n",
              " PosixPath('/root/.keras/datasets/flower_photos/sunflowers/3883895985_bd20198371.jpg'),\n",
              " PosixPath('/root/.keras/datasets/flower_photos/sunflowers/23894449029_bf0f34d35d_n.jpg'),\n",
              " PosixPath('/root/.keras/datasets/flower_photos/sunflowers/15054750690_198b6ab0f2_n.jpg'),\n",
              " PosixPath('/root/.keras/datasets/flower_photos/sunflowers/5967283168_90dd4daf28_n.jpg'),\n",
              " PosixPath('/root/.keras/datasets/flower_photos/sunflowers/4110787181_f73f12d107_m.jpg'),\n",
              " PosixPath('/root/.keras/datasets/flower_photos/sunflowers/6495554833_86eb8faa8e_n.jpg'),\n",
              " PosixPath('/root/.keras/datasets/flower_photos/sunflowers/4080112931_cb20b3d51a_n.jpg'),\n",
              " PosixPath('/root/.keras/datasets/flower_photos/sunflowers/5994586159_1dd99d66b4_n.jpg'),\n",
              " PosixPath('/root/.keras/datasets/flower_photos/sunflowers/14348961225_09bd803317_n.jpg'),\n",
              " PosixPath('/root/.keras/datasets/flower_photos/sunflowers/19595718862_c68896370c_m.jpg'),\n",
              " PosixPath('/root/.keras/datasets/flower_photos/sunflowers/4689061249_6498da5013.jpg'),\n",
              " PosixPath('/root/.keras/datasets/flower_photos/sunflowers/197011740_21825de2bf.jpg'),\n",
              " PosixPath('/root/.keras/datasets/flower_photos/sunflowers/9491955955_d0b2c83834.jpg'),\n",
              " PosixPath('/root/.keras/datasets/flower_photos/sunflowers/3311874685_7b9ef10f7e_m.jpg'),\n",
              " PosixPath('/root/.keras/datasets/flower_photos/sunflowers/4623843480_23e3fb8dcc_n.jpg'),\n",
              " PosixPath('/root/.keras/datasets/flower_photos/sunflowers/3001533700_1c62fb8b4a_n.jpg'),\n",
              " PosixPath('/root/.keras/datasets/flower_photos/sunflowers/3950020811_dab89bebc0_n.jpg'),\n",
              " PosixPath('/root/.keras/datasets/flower_photos/sunflowers/5069564563_ae03792c3c_m.jpg'),\n",
              " PosixPath('/root/.keras/datasets/flower_photos/sunflowers/13117907313_86c99c6441.jpg'),\n",
              " PosixPath('/root/.keras/datasets/flower_photos/sunflowers/5223643767_d8beb7e410.jpg'),\n",
              " PosixPath('/root/.keras/datasets/flower_photos/sunflowers/1485456230_58d8e45e88.jpg'),\n",
              " PosixPath('/root/.keras/datasets/flower_photos/sunflowers/3001536784_3bfd101b23_n.jpg'),\n",
              " PosixPath('/root/.keras/datasets/flower_photos/sunflowers/4932143849_018486cbf7.jpg'),\n",
              " PosixPath('/root/.keras/datasets/flower_photos/sunflowers/7176736574_14446539cb_n.jpg'),\n",
              " PosixPath('/root/.keras/datasets/flower_photos/sunflowers/3334350831_f8755a2095_n.jpg'),\n",
              " PosixPath('/root/.keras/datasets/flower_photos/sunflowers/8234846550_fdaf326dbe.jpg'),\n",
              " PosixPath('/root/.keras/datasets/flower_photos/sunflowers/14858674096_ed0fc1a130.jpg'),\n",
              " PosixPath('/root/.keras/datasets/flower_photos/sunflowers/6606746467_a668c8d417.jpg'),\n",
              " PosixPath('/root/.keras/datasets/flower_photos/sunflowers/4625255191_26e17a28c9_n.jpg'),\n",
              " PosixPath('/root/.keras/datasets/flower_photos/sunflowers/6104713425_8a3277e34a.jpg'),\n",
              " PosixPath('/root/.keras/datasets/flower_photos/sunflowers/7820523050_76c8caa025.jpg'),\n",
              " PosixPath('/root/.keras/datasets/flower_photos/sunflowers/7721658400_0dec46d225.jpg'),\n",
              " PosixPath('/root/.keras/datasets/flower_photos/sunflowers/164670176_9f5b9c7965.jpg'),\n",
              " PosixPath('/root/.keras/datasets/flower_photos/sunflowers/15683877266_42e0fe3782_n.jpg'),\n",
              " PosixPath('/root/.keras/datasets/flower_photos/sunflowers/9216286162_6ceefdd1b4_m.jpg'),\n",
              " PosixPath('/root/.keras/datasets/flower_photos/sunflowers/4160805260_cf758daeae_n.jpg'),\n",
              " PosixPath('/root/.keras/datasets/flower_photos/sunflowers/6627521877_6e43fb3c49_m.jpg'),\n",
              " PosixPath('/root/.keras/datasets/flower_photos/sunflowers/18097401209_910a46fae1_n.jpg'),\n",
              " PosixPath('/root/.keras/datasets/flower_photos/sunflowers/8928658373_fdca5ff1b8.jpg'),\n",
              " PosixPath('/root/.keras/datasets/flower_photos/sunflowers/5018120483_cc0421b176_m.jpg'),\n",
              " PosixPath('/root/.keras/datasets/flower_photos/sunflowers/14121915990_4b76718077_m.jpg'),\n",
              " PosixPath('/root/.keras/datasets/flower_photos/sunflowers/14460075029_5cd715bb72_m.jpg'),\n",
              " PosixPath('/root/.keras/datasets/flower_photos/sunflowers/3731075939_6c92d7fe68_m.jpg'),\n",
              " PosixPath('/root/.keras/datasets/flower_photos/daisy/4814515275_6e25a6c18f.jpg'),\n",
              " PosixPath('/root/.keras/datasets/flower_photos/daisy/172967318_c596d082cc.jpg'),\n",
              " PosixPath('/root/.keras/datasets/flower_photos/daisy/4144275653_7c02d47d9b.jpg'),\n",
              " PosixPath('/root/.keras/datasets/flower_photos/daisy/2511306240_9047015f2d_n.jpg'),\n",
              " PosixPath('/root/.keras/datasets/flower_photos/daisy/20329326505_a777c71cc2.jpg'),\n",
              " PosixPath('/root/.keras/datasets/flower_photos/daisy/4694730335_2553e77aa5_z.jpg'),\n",
              " PosixPath('/root/.keras/datasets/flower_photos/daisy/2488902131_3417698611_n.jpg'),\n",
              " PosixPath('/root/.keras/datasets/flower_photos/daisy/7066602021_2647457985_m.jpg'),\n",
              " PosixPath('/root/.keras/datasets/flower_photos/daisy/14523675369_97c31d0b5b.jpg'),\n",
              " PosixPath('/root/.keras/datasets/flower_photos/daisy/16482676953_5296227d40_n.jpg'),\n",
              " PosixPath('/root/.keras/datasets/flower_photos/daisy/18684594849_7dd3634f5e_n.jpg'),\n",
              " PosixPath('/root/.keras/datasets/flower_photos/daisy/305160642_53cde0f44f.jpg'),\n",
              " PosixPath('/root/.keras/datasets/flower_photos/daisy/4534460263_8e9611db3c_n.jpg'),\n",
              " PosixPath('/root/.keras/datasets/flower_photos/daisy/9286947622_4822f4fc21.jpg'),\n",
              " PosixPath('/root/.keras/datasets/flower_photos/daisy/2908212142_5437fa67ff_n.jpg'),\n",
              " PosixPath('/root/.keras/datasets/flower_photos/daisy/2573240560_ff7ffdd449.jpg'),\n",
              " PosixPath('/root/.keras/datasets/flower_photos/daisy/2579018590_74359dcf1a_m.jpg'),\n",
              " PosixPath('/root/.keras/datasets/flower_photos/daisy/18400014056_2e4c601ed5.jpg'),\n",
              " PosixPath('/root/.keras/datasets/flower_photos/daisy/3445110406_0c1616d2e3_n.jpg'),\n",
              " PosixPath('/root/.keras/datasets/flower_photos/daisy/4434592930_6610d51fca_m.jpg'),\n",
              " PosixPath('/root/.keras/datasets/flower_photos/daisy/2632216904_274aa17433.jpg'),\n",
              " PosixPath('/root/.keras/datasets/flower_photos/daisy/3661613900_b15ca1d35d_m.jpg'),\n",
              " PosixPath('/root/.keras/datasets/flower_photos/daisy/11023214096_b5b39fab08.jpg'),\n",
              " PosixPath('/root/.keras/datasets/flower_photos/daisy/6136947177_47ff445eb4_n.jpg'),\n",
              " PosixPath('/root/.keras/datasets/flower_photos/daisy/3025866885_22fb0b61c6_n.jpg'),\n",
              " PosixPath('/root/.keras/datasets/flower_photos/daisy/4565255237_9ba29c4d4e_n.jpg'),\n",
              " PosixPath('/root/.keras/datasets/flower_photos/daisy/2635314490_e12d3b0f36_m.jpg'),\n",
              " PosixPath('/root/.keras/datasets/flower_photos/daisy/4897587985_f9293ea1ed.jpg'),\n",
              " PosixPath('/root/.keras/datasets/flower_photos/daisy/14147016029_8d3cf2414e.jpg'),\n",
              " PosixPath('/root/.keras/datasets/flower_photos/daisy/2889325612_f2fc403ff0_m.jpg'),\n",
              " PosixPath('/root/.keras/datasets/flower_photos/daisy/8983779970_9d3a6a3bf2_n.jpg'),\n",
              " PosixPath('/root/.keras/datasets/flower_photos/daisy/3764116502_f394428ee0_n.jpg'),\n",
              " PosixPath('/root/.keras/datasets/flower_photos/daisy/20948886919_cac7844f34_n.jpg'),\n",
              " PosixPath('/root/.keras/datasets/flower_photos/daisy/8882282142_9be2524d38_m.jpg'),\n",
              " PosixPath('/root/.keras/datasets/flower_photos/daisy/3639009391_0f910681b7.jpg'),\n",
              " PosixPath('/root/.keras/datasets/flower_photos/daisy/2521408074_e6f86daf21_n.jpg'),\n",
              " PosixPath('/root/.keras/datasets/flower_photos/daisy/7335886184_d06a83f640.jpg'),\n",
              " PosixPath('/root/.keras/datasets/flower_photos/daisy/1031799732_e7f4008c03.jpg'),\n",
              " PosixPath('/root/.keras/datasets/flower_photos/daisy/12348343085_d4c396e5b5_m.jpg'),\n",
              " PosixPath('/root/.keras/datasets/flower_photos/daisy/15327813273_06cdf42210.jpg'),\n",
              " PosixPath('/root/.keras/datasets/flower_photos/daisy/7377004908_5bc0cde347_n.jpg'),\n",
              " PosixPath('/root/.keras/datasets/flower_photos/daisy/520752848_4b87fb91a4.jpg'),\n",
              " PosixPath('/root/.keras/datasets/flower_photos/daisy/4646886118_b5c5ceaf6d_n.jpg'),\n",
              " PosixPath('/root/.keras/datasets/flower_photos/daisy/3611577717_f3a7a8c416_n.jpg'),\n",
              " PosixPath('/root/.keras/datasets/flower_photos/daisy/11870378973_2ec1919f12.jpg'),\n",
              " PosixPath('/root/.keras/datasets/flower_photos/daisy/14698531521_0c2f0c6539.jpg'),\n",
              " PosixPath('/root/.keras/datasets/flower_photos/daisy/54377391_15648e8d18.jpg'),\n",
              " PosixPath('/root/.keras/datasets/flower_photos/daisy/22873310415_3a5674ec10_m.jpg'),\n",
              " PosixPath('/root/.keras/datasets/flower_photos/daisy/3285641623_da0e47f49a.jpg'),\n",
              " PosixPath('/root/.keras/datasets/flower_photos/daisy/2479956481_8d1a9699be_n.jpg'),\n",
              " PosixPath('/root/.keras/datasets/flower_photos/daisy/3640845041_80a92c4205_n.jpg'),\n",
              " PosixPath('/root/.keras/datasets/flower_photos/daisy/5796562389_ae43c83317_m.jpg'),\n",
              " PosixPath('/root/.keras/datasets/flower_photos/daisy/17249393016_093e915012_n.jpg'),\n",
              " PosixPath('/root/.keras/datasets/flower_photos/daisy/9595857626_979c45e5bf_n.jpg'),\n",
              " PosixPath('/root/.keras/datasets/flower_photos/daisy/134409839_71069a95d1_m.jpg'),\n",
              " PosixPath('/root/.keras/datasets/flower_photos/daisy/2649404904_b7a91991bb_n.jpg'),\n",
              " PosixPath('/root/.keras/datasets/flower_photos/daisy/3704305945_a80e60e2f6_m.jpg'),\n",
              " PosixPath('/root/.keras/datasets/flower_photos/daisy/9158041313_7a6a102f7a_n.jpg'),\n",
              " PosixPath('/root/.keras/datasets/flower_photos/daisy/6054952060_c88612f3c5_n.jpg'),\n",
              " PosixPath('/root/.keras/datasets/flower_photos/daisy/3468498624_d082f99e98.jpg'),\n",
              " PosixPath('/root/.keras/datasets/flower_photos/daisy/2607132536_d95198e619_n.jpg'),\n",
              " PosixPath('/root/.keras/datasets/flower_photos/daisy/105806915_a9c13e2106_n.jpg'),\n",
              " PosixPath('/root/.keras/datasets/flower_photos/daisy/5632774792_0fa33d17eb_n.jpg'),\n",
              " PosixPath('/root/.keras/datasets/flower_photos/daisy/3625257860_33efeef614_m.jpg'),\n",
              " PosixPath('/root/.keras/datasets/flower_photos/daisy/18023717391_e2c9089e10.jpg'),\n",
              " PosixPath('/root/.keras/datasets/flower_photos/daisy/2551708158_1f10e81e11.jpg'),\n",
              " PosixPath('/root/.keras/datasets/flower_photos/daisy/488202750_c420cbce61.jpg'),\n",
              " PosixPath('/root/.keras/datasets/flower_photos/daisy/506493250_e9ca42fe3d.jpg'),\n",
              " PosixPath('/root/.keras/datasets/flower_photos/daisy/10559679065_50d2b16f6d.jpg'),\n",
              " PosixPath('/root/.keras/datasets/flower_photos/daisy/3627678863_557552c879_m.jpg'),\n",
              " PosixPath('/root/.keras/datasets/flower_photos/daisy/5434913005_409c1e8b56_n.jpg'),\n",
              " PosixPath('/root/.keras/datasets/flower_photos/daisy/9350942387_5b1d043c26_n.jpg'),\n",
              " PosixPath('/root/.keras/datasets/flower_photos/daisy/3491933306_43cfe2cfbe.jpg'),\n",
              " PosixPath('/root/.keras/datasets/flower_photos/daisy/2077865117_9ed85191ae_n.jpg'),\n",
              " PosixPath('/root/.keras/datasets/flower_photos/daisy/5547758_eea9edfd54_n.jpg'),\n",
              " PosixPath('/root/.keras/datasets/flower_photos/daisy/2476937534_21b285aa46_n.jpg'),\n",
              " PosixPath('/root/.keras/datasets/flower_photos/daisy/107592979_aaa9cdfe78_m.jpg'),\n",
              " PosixPath('/root/.keras/datasets/flower_photos/daisy/267148092_4bb874af58.jpg'),\n",
              " PosixPath('/root/.keras/datasets/flower_photos/daisy/2520369272_1dcdb5a892_m.jpg'),\n",
              " PosixPath('/root/.keras/datasets/flower_photos/daisy/7227973870_806d9d3e42_n.jpg'),\n",
              " PosixPath('/root/.keras/datasets/flower_photos/daisy/20619292635_9857a12d54.jpg'),\n",
              " PosixPath('/root/.keras/datasets/flower_photos/daisy/19177263840_6a316ea639.jpg'),\n",
              " PosixPath('/root/.keras/datasets/flower_photos/daisy/4482623536_b9fb5ae41f_n.jpg'),\n",
              " PosixPath('/root/.keras/datasets/flower_photos/daisy/21402054779_759366efb0_n.jpg'),\n",
              " PosixPath('/root/.keras/datasets/flower_photos/daisy/3628485766_4ff937954a_n.jpg'),\n",
              " PosixPath('/root/.keras/datasets/flower_photos/daisy/3533954656_79156c8473.jpg'),\n",
              " PosixPath('/root/.keras/datasets/flower_photos/daisy/8348621545_8f02b82662_n.jpg'),\n",
              " PosixPath('/root/.keras/datasets/flower_photos/daisy/3080880039_4f1bd592e5_n.jpg'),\n",
              " PosixPath('/root/.keras/datasets/flower_photos/daisy/23095658544_7226386954_n.jpg'),\n",
              " PosixPath('/root/.keras/datasets/flower_photos/daisy/19813618946_93818db7aa_m.jpg'),\n",
              " PosixPath('/root/.keras/datasets/flower_photos/daisy/6323721068_3d3394af6d_n.jpg'),\n",
              " PosixPath('/root/.keras/datasets/flower_photos/daisy/6910811638_aa6f17df23.jpg'),\n",
              " PosixPath('/root/.keras/datasets/flower_photos/daisy/1140299375_3aa7024466.jpg'),\n",
              " PosixPath('/root/.keras/datasets/flower_photos/daisy/3975010332_3209f9f447_m.jpg'),\n",
              " PosixPath('/root/.keras/datasets/flower_photos/daisy/450128527_fd35742d44.jpg'),\n",
              " PosixPath('/root/.keras/datasets/flower_photos/daisy/10172636503_21bededa75_n.jpg'),\n",
              " PosixPath('/root/.keras/datasets/flower_photos/daisy/7629784968_b953501902_n.jpg'),\n",
              " PosixPath('/root/.keras/datasets/flower_photos/daisy/2539552964_921cf645ba_n.jpg'),\n",
              " PosixPath('/root/.keras/datasets/flower_photos/daisy/433837534_1dbf798b73.jpg'),\n",
              " PosixPath('/root/.keras/datasets/flower_photos/daisy/6480809771_b1e14c5cc2_m.jpg'),\n",
              " PosixPath('/root/.keras/datasets/flower_photos/daisy/16527403771_2391f137c4_n.jpg'),\n",
              " PosixPath('/root/.keras/datasets/flower_photos/daisy/3704306975_75b74497d8.jpg'),\n",
              " PosixPath('/root/.keras/datasets/flower_photos/daisy/3703643767_dee82cdef9_n.jpg'),\n",
              " PosixPath('/root/.keras/datasets/flower_photos/daisy/21805938544_bf6bb0e4bc.jpg'),\n",
              " PosixPath('/root/.keras/datasets/flower_photos/daisy/9496209717_25a6ebdab6_m.jpg'),\n",
              " PosixPath('/root/.keras/datasets/flower_photos/daisy/6864242336_0d12713fe5_n.jpg'),\n",
              " PosixPath('/root/.keras/datasets/flower_photos/daisy/3780380240_ef9ec1b737_m.jpg'),\n",
              " PosixPath('/root/.keras/datasets/flower_photos/daisy/6776075110_1ea7a09dd4_n.jpg'),\n",
              " PosixPath('/root/.keras/datasets/flower_photos/daisy/2828733818_1c1ed0089d_n.jpg'),\n",
              " PosixPath('/root/.keras/datasets/flower_photos/daisy/9346508462_f0af3163f4.jpg'),\n",
              " PosixPath('/root/.keras/datasets/flower_photos/daisy/6529588249_d9cbe68aab_n.jpg'),\n",
              " PosixPath('/root/.keras/datasets/flower_photos/daisy/2621723097_736febb4a4_n.jpg'),\n",
              " PosixPath('/root/.keras/datasets/flower_photos/daisy/3720632920_93cf1cc7f3_m.jpg'),\n",
              " PosixPath('/root/.keras/datasets/flower_photos/daisy/9321854387_5f77c926cb_n.jpg'),\n",
              " PosixPath('/root/.keras/datasets/flower_photos/daisy/10993710036_2033222c91.jpg'),\n",
              " PosixPath('/root/.keras/datasets/flower_photos/daisy/169371301_d9b91a2a42.jpg'),\n",
              " PosixPath('/root/.keras/datasets/flower_photos/daisy/6480809573_76a0074b69_n.jpg'),\n",
              " PosixPath('/root/.keras/datasets/flower_photos/daisy/18901817451_43e2b45f6c.jpg'),\n",
              " PosixPath('/root/.keras/datasets/flower_photos/daisy/1392131677_116ec04751.jpg'),\n",
              " PosixPath('/root/.keras/datasets/flower_photos/daisy/1396526833_fb867165be_n.jpg'),\n",
              " PosixPath('/root/.keras/datasets/flower_photos/daisy/799952628_bf836677fa_n.jpg'),\n",
              " PosixPath('/root/.keras/datasets/flower_photos/daisy/8706810197_17b6c1f1e7.jpg'),\n",
              " PosixPath('/root/.keras/datasets/flower_photos/daisy/2581171297_b0a249b92b_n.jpg'),\n",
              " PosixPath('/root/.keras/datasets/flower_photos/daisy/12585131704_0f64b17059_m.jpg'),\n",
              " PosixPath('/root/.keras/datasets/flower_photos/daisy/99306615_739eb94b9e_m.jpg'),\n",
              " PosixPath('/root/.keras/datasets/flower_photos/daisy/7358085448_b317d11cd5.jpg'),\n",
              " PosixPath('/root/.keras/datasets/flower_photos/daisy/3695826945_9f374e8a00_m.jpg'),\n",
              " PosixPath('/root/.keras/datasets/flower_photos/daisy/446484749_4044affcaf_n.jpg'),\n",
              " PosixPath('/root/.keras/datasets/flower_photos/daisy/5876455546_32049e5585.jpg'),\n",
              " PosixPath('/root/.keras/datasets/flower_photos/daisy/4276898893_609d11db8b.jpg'),\n",
              " PosixPath('/root/.keras/datasets/flower_photos/daisy/5109508979_68e3530791_m.jpg'),\n",
              " PosixPath('/root/.keras/datasets/flower_photos/daisy/9175280426_40ecc395b8_m.jpg'),\n",
              " PosixPath('/root/.keras/datasets/flower_photos/daisy/102841525_bd6628ae3c.jpg'),\n",
              " PosixPath('/root/.keras/datasets/flower_photos/daisy/2666572212_2caca8de9f_n.jpg'),\n",
              " PosixPath('/root/.keras/datasets/flower_photos/daisy/4694734757_5c563d38dd_n.jpg'),\n",
              " PosixPath('/root/.keras/datasets/flower_photos/daisy/1150395827_6f94a5c6e4_n.jpg'),\n",
              " PosixPath('/root/.keras/datasets/flower_photos/daisy/2612704455_efce1c2144_m.jpg'),\n",
              " PosixPath('/root/.keras/datasets/flower_photos/daisy/16492248512_61a57dfec1_m.jpg'),\n",
              " PosixPath('/root/.keras/datasets/flower_photos/daisy/3275951182_d27921af97_n.jpg'),\n",
              " PosixPath('/root/.keras/datasets/flower_photos/daisy/4131565290_0585c4dd5a_n.jpg'),\n",
              " PosixPath('/root/.keras/datasets/flower_photos/daisy/695778683_890c46ebac.jpg'),\n",
              " PosixPath('/root/.keras/datasets/flower_photos/daisy/4258408909_b7cc92741c_m.jpg'),\n",
              " PosixPath('/root/.keras/datasets/flower_photos/daisy/11023272144_fce94401f2_m.jpg'),\n",
              " PosixPath('/root/.keras/datasets/flower_photos/daisy/8708143485_38d084ac8c_n.jpg'),\n",
              " PosixPath('/root/.keras/datasets/flower_photos/daisy/4837182901_69a6cc782b_n.jpg'),\n",
              " PosixPath('/root/.keras/datasets/flower_photos/daisy/18354545086_693ea7bc2a.jpg'),\n",
              " PosixPath('/root/.keras/datasets/flower_photos/daisy/253426762_9793d43fcd.jpg'),\n",
              " PosixPath('/root/.keras/datasets/flower_photos/daisy/5881907044_92a85a05c8_n.jpg'),\n",
              " PosixPath('/root/.keras/datasets/flower_photos/daisy/8127252886_96558c23d1.jpg'),\n",
              " PosixPath('/root/.keras/datasets/flower_photos/daisy/3713290261_8a66de23ab.jpg'),\n",
              " PosixPath('/root/.keras/datasets/flower_photos/daisy/8719756744_34a5a83976_n.jpg'),\n",
              " PosixPath('/root/.keras/datasets/flower_photos/daisy/5773652803_574b51414f_n.jpg'),\n",
              " PosixPath('/root/.keras/datasets/flower_photos/daisy/7410356270_9dff4d0e2e_n.jpg'),\n",
              " PosixPath('/root/.keras/datasets/flower_photos/daisy/4697206799_19dd2a3193_m.jpg'),\n",
              " PosixPath('/root/.keras/datasets/flower_photos/daisy/9161647994_e39b65cb9c_n.jpg'),\n",
              " PosixPath('/root/.keras/datasets/flower_photos/daisy/525780443_bba812c26a_m.jpg'),\n",
              " PosixPath('/root/.keras/datasets/flower_photos/daisy/20182559506_40a112f762.jpg'),\n",
              " PosixPath('/root/.keras/datasets/flower_photos/daisy/2646438199_b309cffd65_n.jpg'),\n",
              " PosixPath('/root/.keras/datasets/flower_photos/daisy/4229503616_9b8a42123c_n.jpg'),\n",
              " PosixPath('/root/.keras/datasets/flower_photos/daisy/11439894966_dca877f0cd.jpg'),\n",
              " PosixPath('/root/.keras/datasets/flower_photos/daisy/2538504987_fe524b92a8_n.jpg'),\n",
              " PosixPath('/root/.keras/datasets/flower_photos/daisy/10994032453_ac7f8d9e2e.jpg'),\n",
              " PosixPath('/root/.keras/datasets/flower_photos/daisy/15760153042_a2a90e9da5_m.jpg'),\n",
              " PosixPath('/root/.keras/datasets/flower_photos/daisy/9515186037_3be48fe68f.jpg'),\n",
              " PosixPath('/root/.keras/datasets/flower_photos/daisy/2331133004_582772d58f_m.jpg'),\n",
              " PosixPath('/root/.keras/datasets/flower_photos/daisy/459931395_24bf6531fe_n.jpg'),\n",
              " PosixPath('/root/.keras/datasets/flower_photos/daisy/16833748795_b681b2839f_n.jpg'),\n",
              " PosixPath('/root/.keras/datasets/flower_photos/daisy/1355787476_32e9f2a30b.jpg'),\n",
              " PosixPath('/root/.keras/datasets/flower_photos/daisy/754248840_95092de274.jpg'),\n",
              " PosixPath('/root/.keras/datasets/flower_photos/daisy/173350276_02817aa8d5.jpg'),\n",
              " PosixPath('/root/.keras/datasets/flower_photos/daisy/9204730092_a7f2182347.jpg'),\n",
              " PosixPath('/root/.keras/datasets/flower_photos/daisy/5714327423_50af0cffe9.jpg'),\n",
              " PosixPath('/root/.keras/datasets/flower_photos/daisy/5087720485_c0914fb623.jpg'),\n",
              " PosixPath('/root/.keras/datasets/flower_photos/daisy/10555815624_dc211569b0.jpg'),\n",
              " PosixPath('/root/.keras/datasets/flower_photos/daisy/174131220_c853df1287.jpg'),\n",
              " PosixPath('/root/.keras/datasets/flower_photos/daisy/16401288243_36112bd52f_m.jpg'),\n",
              " PosixPath('/root/.keras/datasets/flower_photos/daisy/14613443462_d4ed356201.jpg'),\n",
              " PosixPath('/root/.keras/datasets/flower_photos/daisy/521762040_f26f2e08dd.jpg'),\n",
              " PosixPath('/root/.keras/datasets/flower_photos/daisy/7416083788_fcb4c4f27e_n.jpg'),\n",
              " PosixPath('/root/.keras/datasets/flower_photos/daisy/20685027271_0e7306e7c1_n.jpg'),\n",
              " PosixPath('/root/.keras/datasets/flower_photos/daisy/2561371688_c80a4fe957_n.jpg'),\n",
              " PosixPath('/root/.keras/datasets/flower_photos/daisy/14307766919_fac3c37a6b_m.jpg'),\n",
              " PosixPath('/root/.keras/datasets/flower_photos/daisy/8887005939_b19e8305ee.jpg'),\n",
              " PosixPath('/root/.keras/datasets/flower_photos/daisy/3546455114_cd2dea5e02.jpg'),\n",
              " PosixPath('/root/.keras/datasets/flower_photos/daisy/1299501272_59d9da5510_n.jpg'),\n",
              " PosixPath('/root/.keras/datasets/flower_photos/daisy/433037739_6a030e5912.jpg'),\n",
              " PosixPath('/root/.keras/datasets/flower_photos/daisy/176375506_201859bb92_m.jpg'),\n",
              " PosixPath('/root/.keras/datasets/flower_photos/daisy/2812442552_3eed5fb9f2_m.jpg'),\n",
              " PosixPath('/root/.keras/datasets/flower_photos/daisy/4496202781_1d8e776ff5_n.jpg'),\n",
              " PosixPath('/root/.keras/datasets/flower_photos/daisy/16737503507_431768a927.jpg'),\n",
              " PosixPath('/root/.keras/datasets/flower_photos/daisy/391364011_5beaaa1ae2_m.jpg'),\n",
              " PosixPath('/root/.keras/datasets/flower_photos/daisy/12701063955_4840594ea6_n.jpg'),\n",
              " PosixPath('/root/.keras/datasets/flower_photos/daisy/5054771689_00dd40b971_n.jpg'),\n",
              " PosixPath('/root/.keras/datasets/flower_photos/daisy/175106495_53ebdef092_n.jpg'),\n",
              " PosixPath('/root/.keras/datasets/flower_photos/daisy/5981645737_29eceac291_m.jpg'),\n",
              " PosixPath('/root/.keras/datasets/flower_photos/daisy/4511693548_20f9bd2b9c_m.jpg'),\n",
              " PosixPath('/root/.keras/datasets/flower_photos/daisy/13953307149_f8de6a768c_m.jpg'),\n",
              " PosixPath('/root/.keras/datasets/flower_photos/daisy/4561871220_47f420ca59_m.jpg'),\n",
              " PosixPath('/root/.keras/datasets/flower_photos/daisy/19975899671_ebc42b7865_n.jpg'),\n",
              " PosixPath('/root/.keras/datasets/flower_photos/daisy/43474673_7bb4465a86.jpg'),\n",
              " PosixPath('/root/.keras/datasets/flower_photos/daisy/16360180712_b72695928c_n.jpg'),\n",
              " PosixPath('/root/.keras/datasets/flower_photos/daisy/163978992_8128b49d3e_n.jpg'),\n",
              " PosixPath('/root/.keras/datasets/flower_photos/daisy/5794839_200acd910c_n.jpg'),\n",
              " PosixPath('/root/.keras/datasets/flower_photos/daisy/4890424315_6a59696357_n.jpg'),\n",
              " PosixPath('/root/.keras/datasets/flower_photos/daisy/2480569557_f4e1f0dcb8_n.jpg'),\n",
              " PosixPath('/root/.keras/datasets/flower_photos/daisy/14402451388_56545a374a_n.jpg'),\n",
              " PosixPath('/root/.keras/datasets/flower_photos/daisy/9180706736_092d43088c.jpg'),\n",
              " PosixPath('/root/.keras/datasets/flower_photos/daisy/8085329197_41d53a21e2_n.jpg'),\n",
              " PosixPath('/root/.keras/datasets/flower_photos/daisy/9120905231_329598304e.jpg'),\n",
              " PosixPath('/root/.keras/datasets/flower_photos/daisy/4432271543_01c56ca3a9.jpg'),\n",
              " PosixPath('/root/.keras/datasets/flower_photos/daisy/144099102_bf63a41e4f_n.jpg'),\n",
              " PosixPath('/root/.keras/datasets/flower_photos/daisy/4724713781_d169f98a35.jpg'),\n",
              " PosixPath('/root/.keras/datasets/flower_photos/daisy/15207766_fc2f1d692c_n.jpg'),\n",
              " PosixPath('/root/.keras/datasets/flower_photos/daisy/19544831049_0d738d4872_m.jpg'),\n",
              " PosixPath('/root/.keras/datasets/flower_photos/daisy/7669550908_bc5a11276f_n.jpg'),\n",
              " PosixPath('/root/.keras/datasets/flower_photos/daisy/4727955343_0bb23ac4ae.jpg'),\n",
              " PosixPath('/root/.keras/datasets/flower_photos/daisy/13583238844_573df2de8e_m.jpg'),\n",
              " PosixPath('/root/.keras/datasets/flower_photos/daisy/5434914569_e9b982fde0_n.jpg'),\n",
              " PosixPath('/root/.keras/datasets/flower_photos/daisy/2454280135_ac3aa75cdc_n.jpg'),\n",
              " PosixPath('/root/.keras/datasets/flower_photos/daisy/7288989324_c25d9febbf.jpg'),\n",
              " PosixPath('/root/.keras/datasets/flower_photos/daisy/5586977262_6b24412805_n.jpg'),\n",
              " PosixPath('/root/.keras/datasets/flower_photos/daisy/3706420943_66f3214862_n.jpg'),\n",
              " PosixPath('/root/.keras/datasets/flower_photos/daisy/3637428148_a1dcccafa9_n.jpg'),\n",
              " PosixPath('/root/.keras/datasets/flower_photos/daisy/7630520686_e3a61ac763.jpg'),\n",
              " PosixPath('/root/.keras/datasets/flower_photos/daisy/2001380507_19488ff96a_n.jpg'),\n",
              " PosixPath('/root/.keras/datasets/flower_photos/daisy/705422469_ffa28c566d.jpg'),\n",
              " PosixPath('/root/.keras/datasets/flower_photos/daisy/16121105382_b96251e506_m.jpg'),\n",
              " PosixPath('/root/.keras/datasets/flower_photos/daisy/3711723108_65247a3170.jpg'),\n",
              " PosixPath('/root/.keras/datasets/flower_photos/daisy/8964198962_6d8593b533.jpg'),\n",
              " PosixPath('/root/.keras/datasets/flower_photos/daisy/2599662355_7782218c83.jpg'),\n",
              " PosixPath('/root/.keras/datasets/flower_photos/daisy/3310644753_5607eb96a4_m.jpg'),\n",
              " PosixPath('/root/.keras/datasets/flower_photos/daisy/1344985627_c3115e2d71_n.jpg'),\n",
              " PosixPath('/root/.keras/datasets/flower_photos/daisy/8063844363_db3f4dea85.jpg'),\n",
              " PosixPath('/root/.keras/datasets/flower_photos/daisy/5693459303_e61d9a9533.jpg'),\n",
              " PosixPath('/root/.keras/datasets/flower_photos/daisy/181007802_7cab5ee78e_n.jpg'),\n",
              " PosixPath('/root/.keras/datasets/flower_photos/daisy/2473825306_62fd5f8785_n.jpg'),\n",
              " PosixPath('/root/.keras/datasets/flower_photos/daisy/8383753520_8391dd80ee_m.jpg'),\n",
              " PosixPath('/root/.keras/datasets/flower_photos/daisy/5869147563_66fb88119d.jpg'),\n",
              " PosixPath('/root/.keras/datasets/flower_photos/daisy/3633489595_a037a9b7a4_m.jpg'),\n",
              " PosixPath('/root/.keras/datasets/flower_photos/daisy/3474942718_c418dae6f1.jpg'),\n",
              " PosixPath('/root/.keras/datasets/flower_photos/daisy/7199968650_72afc16d31_m.jpg'),\n",
              " PosixPath('/root/.keras/datasets/flower_photos/daisy/1879567877_8ed2a5faa7_n.jpg'),\n",
              " PosixPath('/root/.keras/datasets/flower_photos/daisy/4666648087_b10f376f19.jpg'),\n",
              " PosixPath('/root/.keras/datasets/flower_photos/daisy/16291797949_a1b1b7c2bd_n.jpg'),\n",
              " PosixPath('/root/.keras/datasets/flower_photos/daisy/3750771898_cfd50090ba_n.jpg'),\n",
              " PosixPath('/root/.keras/datasets/flower_photos/daisy/4753134939_8e87649db6.jpg'),\n",
              " PosixPath('/root/.keras/datasets/flower_photos/daisy/14167543177_cd36b54ac6_n.jpg'),\n",
              " PosixPath('/root/.keras/datasets/flower_photos/daisy/5997702776_c7bc37aa6b_n.jpg'),\n",
              " PosixPath('/root/.keras/datasets/flower_photos/daisy/538920244_59899a78f8_n.jpg'),\n",
              " PosixPath('/root/.keras/datasets/flower_photos/daisy/5133243796_44de429de5_m.jpg'),\n",
              " PosixPath('/root/.keras/datasets/flower_photos/daisy/6884975451_c74f445d69_m.jpg'),\n",
              " PosixPath('/root/.keras/datasets/flower_photos/daisy/4117918318_3c8935289b_m.jpg'),\n",
              " PosixPath('/root/.keras/datasets/flower_photos/daisy/302782756_d35cb3e468.jpg'),\n",
              " PosixPath('/root/.keras/datasets/flower_photos/daisy/813445367_187ecf080a_n.jpg'),\n",
              " PosixPath('/root/.keras/datasets/flower_photos/daisy/162362897_1d21b70621_m.jpg'),\n",
              " PosixPath('/root/.keras/datasets/flower_photos/daisy/8759177308_951790e00d_m.jpg'),\n",
              " PosixPath('/root/.keras/datasets/flower_photos/daisy/8446495985_f72d851482.jpg'),\n",
              " PosixPath('/root/.keras/datasets/flower_photos/daisy/14816364517_2423021484_m.jpg'),\n",
              " PosixPath('/root/.keras/datasets/flower_photos/daisy/162362896_99c7d851c8_n.jpg'),\n",
              " PosixPath('/root/.keras/datasets/flower_photos/daisy/14551098743_2842e7a004_n.jpg'),\n",
              " PosixPath('/root/.keras/datasets/flower_photos/daisy/7749368884_1fc58c67ff_n.jpg'),\n",
              " PosixPath('/root/.keras/datasets/flower_photos/daisy/14332947164_9b13513c71_m.jpg'),\n",
              " PosixPath('/root/.keras/datasets/flower_photos/daisy/4613992315_143ccc2a10_m.jpg'),\n",
              " PosixPath('/root/.keras/datasets/flower_photos/daisy/4141147800_813f660b47.jpg'),\n",
              " PosixPath('/root/.keras/datasets/flower_photos/daisy/483886997_27ee798327.jpg'),\n",
              " PosixPath('/root/.keras/datasets/flower_photos/daisy/6978826370_7b9aa7c7d5.jpg'),\n",
              " PosixPath('/root/.keras/datasets/flower_photos/daisy/14221836990_90374e6b34.jpg'),\n",
              " PosixPath('/root/.keras/datasets/flower_photos/daisy/2619413565_61a6cd3ac9_m.jpg'),\n",
              " PosixPath('/root/.keras/datasets/flower_photos/daisy/3773181799_5def396456.jpg'),\n",
              " PosixPath('/root/.keras/datasets/flower_photos/daisy/8938566373_d129e7af75.jpg'),\n",
              " PosixPath('/root/.keras/datasets/flower_photos/daisy/6208851904_9d916ebb32_n.jpg'),\n",
              " PosixPath('/root/.keras/datasets/flower_photos/daisy/15853110333_229c439e7f.jpg'),\n",
              " PosixPath('/root/.keras/datasets/flower_photos/daisy/367020749_3c9a652d75.jpg'),\n",
              " PosixPath('/root/.keras/datasets/flower_photos/daisy/5574421625_61b1f49b3f_m.jpg'),\n",
              " PosixPath('/root/.keras/datasets/flower_photos/daisy/512177035_70afc925c8.jpg'),\n",
              " PosixPath('/root/.keras/datasets/flower_photos/daisy/15306268004_4680ba95e1.jpg'),\n",
              " PosixPath('/root/.keras/datasets/flower_photos/daisy/2536529152_33ef3ee078_n.jpg'),\n",
              " PosixPath('/root/.keras/datasets/flower_photos/daisy/299129811_d6ebda9970.jpg'),\n",
              " PosixPath('/root/.keras/datasets/flower_photos/daisy/835750256_3f91a147ef_n.jpg'),\n",
              " PosixPath('/root/.keras/datasets/flower_photos/daisy/5809489674_5659b3ae5d_n.jpg'),\n",
              " PosixPath('/root/.keras/datasets/flower_photos/daisy/8094774544_35465c1c64.jpg'),\n",
              " PosixPath('/root/.keras/datasets/flower_photos/daisy/8021540573_c56cf9070d_n.jpg'),\n",
              " PosixPath('/root/.keras/datasets/flower_photos/daisy/4993492878_11fd4f5d12.jpg'),\n",
              " PosixPath('/root/.keras/datasets/flower_photos/daisy/1392946544_115acbb2d9.jpg'),\n",
              " PosixPath('/root/.keras/datasets/flower_photos/daisy/9467543719_c4800becbb_m.jpg'),\n",
              " PosixPath('/root/.keras/datasets/flower_photos/daisy/517054467_d82d323c33_m.jpg'),\n",
              " PosixPath('/root/.keras/datasets/flower_photos/daisy/4757448834_a29a9538c9_n.jpg'),\n",
              " PosixPath('/root/.keras/datasets/flower_photos/daisy/20289938802_e16fa9f23d.jpg'),\n",
              " PosixPath('/root/.keras/datasets/flower_photos/daisy/9593034725_0062f0d24e_n.jpg'),\n",
              " PosixPath('/root/.keras/datasets/flower_photos/daisy/5700781400_65761f3fce.jpg'),\n",
              " PosixPath('/root/.keras/datasets/flower_photos/daisy/5435521200_92029bbe2b_n.jpg'),\n",
              " PosixPath('/root/.keras/datasets/flower_photos/daisy/6299910262_336309ffa5_n.jpg'),\n",
              " PosixPath('/root/.keras/datasets/flower_photos/daisy/8671824531_64b816949e_m.jpg'),\n",
              " PosixPath('/root/.keras/datasets/flower_photos/daisy/9054268881_19792c5203_n.jpg'),\n",
              " PosixPath('/root/.keras/datasets/flower_photos/daisy/3456403987_5bd5fa6ece_n.jpg'),\n",
              " PosixPath('/root/.keras/datasets/flower_photos/daisy/154332674_453cea64f4.jpg'),\n",
              " PosixPath('/root/.keras/datasets/flower_photos/daisy/19653086178_28156b7ce4_m.jpg'),\n",
              " PosixPath('/root/.keras/datasets/flower_photos/daisy/1354396826_2868631432_m.jpg'),\n",
              " PosixPath('/root/.keras/datasets/flower_photos/daisy/495098110_3a4bb30042_n.jpg'),\n",
              " PosixPath('/root/.keras/datasets/flower_photos/daisy/3117644024_1cbb59a509_n.jpg'),\n",
              " PosixPath('/root/.keras/datasets/flower_photos/daisy/8008258043_5457dd254b_n.jpg'),\n",
              " ...]"
            ]
          },
          "metadata": {
            "tags": []
          },
          "execution_count": 24
        }
      ]
    },
    {
      "cell_type": "code",
      "metadata": {
        "id": "XtMLofUY4ls0",
        "colab_type": "code",
        "outputId": "b104e4d8-8bb9-45ff-cc0f-4d4e9e5daeca",
        "colab": {
          "base_uri": "https://localhost:8080/",
          "height": 51
        }
      },
      "source": [
        "CLASS_NAMES = np.array([item.name for item in data_dir.glob('*') if item.name != \"LICENSE.txt\"])\n",
        "CLASS_NAMES"
      ],
      "execution_count": 0,
      "outputs": [
        {
          "output_type": "execute_result",
          "data": {
            "text/plain": [
              "array(['sunflowers', 'daisy', 'roses', 'dandelion', 'tulips'],\n",
              "      dtype='<U10')"
            ]
          },
          "metadata": {
            "tags": []
          },
          "execution_count": 30
        }
      ]
    },
    {
      "cell_type": "code",
      "metadata": {
        "id": "LAv1Fkh-6z3Q",
        "colab_type": "code",
        "outputId": "f4432b13-69ed-441f-e158-42608b1ce708",
        "colab": {
          "base_uri": "https://localhost:8080/",
          "height": 34
        }
      },
      "source": [
        "[item.name for item in data_dir.glob('*') if item.name != \"LICENSE.txt\"]"
      ],
      "execution_count": 0,
      "outputs": [
        {
          "output_type": "execute_result",
          "data": {
            "text/plain": [
              "['sunflowers', 'daisy', 'roses', 'dandelion', 'tulips']"
            ]
          },
          "metadata": {
            "tags": []
          },
          "execution_count": 33
        }
      ]
    },
    {
      "cell_type": "code",
      "metadata": {
        "id": "wYFB_5d87LCt",
        "colab_type": "code",
        "outputId": "b17f9f22-1c93-40ba-f973-4d948fb46322",
        "colab": {
          "base_uri": "https://localhost:8080/",
          "height": 34
        }
      },
      "source": [
        "type(data_dir)"
      ],
      "execution_count": 0,
      "outputs": [
        {
          "output_type": "execute_result",
          "data": {
            "text/plain": [
              "pathlib.PosixPath"
            ]
          },
          "metadata": {
            "tags": []
          },
          "execution_count": 36
        }
      ]
    },
    {
      "cell_type": "code",
      "metadata": {
        "id": "n5Svu5jY8NcK",
        "colab_type": "code",
        "outputId": "72ece95f-0bbf-44c1-ff72-92cd4d0811cb",
        "colab": {
          "base_uri": "https://localhost:8080/",
          "height": 119
        }
      },
      "source": [
        "for item in data_dir.glob('*'):\n",
        "  print(item.stem)\n",
        "  "
      ],
      "execution_count": 0,
      "outputs": [
        {
          "output_type": "stream",
          "text": [
            "sunflowers\n",
            "LICENSE\n",
            "daisy\n",
            "roses\n",
            "dandelion\n",
            "tulips\n"
          ],
          "name": "stdout"
        }
      ]
    },
    {
      "cell_type": "code",
      "metadata": {
        "id": "B_SEv10zBFb7",
        "colab_type": "code",
        "colab": {}
      },
      "source": [
        ""
      ],
      "execution_count": 0,
      "outputs": []
    }
  ]
}